{
 "cells": [
  {
   "cell_type": "code",
   "execution_count": 1,
   "metadata": {},
   "outputs": [],
   "source": [
    "import tensorflow as tf"
   ]
  },
  {
   "cell_type": "markdown",
   "metadata": {},
   "source": [
    "# Problem D.1 - Autodifferentiation of $f(w_0, w_1) = w_0 + w_1^2$\n",
    "<br>\n",
    "Here the task is to achieve differentiation of $f(w_0, w_1) = w_0 + w_1^2$ using Tensorflow2.\n",
    "<br>\n",
    "Confirm that this results in the following output, which shows that the desired gradient is\n",
    "the vector $[1.0, 8.0]^T$ ."
   ]
  },
  {
   "cell_type": "code",
   "execution_count": 2,
   "metadata": {},
   "outputs": [
    {
     "data": {
      "text/plain": [
       "<tf.Tensor: shape=(2,), dtype=float32, numpy=array([1., 8.], dtype=float32)>"
      ]
     },
     "execution_count": 2,
     "metadata": {},
     "output_type": "execute_result"
    }
   ],
   "source": [
    "# Define function h1 to differentiate.\n",
    "def h1(w):\n",
    "    return w[0] + w[1] ** 2\n",
    "\n",
    "# In analogy with numpy arrays, create a Tensorflow2 tensor called tf_w.\n",
    "tf_w = tf.Variable([3.0,4.0])\n",
    "\n",
    "# Perform the gradient calculation by means of the GradientTape functionality.\n",
    "with tf.GradientTape() as tape:\n",
    "    tf_z1 = h1(tf_w)\n",
    "\n",
    "grad_h1 = tape.gradient(tf_z1, tf_w)\n",
    "\n",
    "grad_h1"
   ]
  },
  {
   "cell_type": "markdown",
   "metadata": {},
   "source": [
    "Now rewrite the function h1 by means of a for-loop instead, and call the new function h2.\n",
    "<br>\n",
    "Thus the only difference here is that h2 is implemented by means of a for-loop:"
   ]
  },
  {
   "cell_type": "code",
   "execution_count": 3,
   "metadata": {},
   "outputs": [],
   "source": [
    "# Define function h2 to differentiate.\n",
    "def h2(w):\n",
    "    s = 0\n",
    "    for i in range(2):\n",
    "        s = s + w[i] ** (i + 1)\n",
    "    return s"
   ]
  },
  {
   "cell_type": "markdown",
   "metadata": {},
   "source": [
    "Finally perform the gradient calculations again, this time for h2:"
   ]
  },
  {
   "cell_type": "code",
   "execution_count": 4,
   "metadata": {},
   "outputs": [
    {
     "data": {
      "text/plain": [
       "<tf.Tensor: shape=(2,), dtype=float32, numpy=array([1., 8.], dtype=float32)>"
      ]
     },
     "execution_count": 4,
     "metadata": {},
     "output_type": "execute_result"
    }
   ],
   "source": [
    "# In analogy with numpy arrays, create a Tensorflow2 tensor called tf_w.\n",
    "tf_w = tf.Variable([3.0,4.0])\n",
    "\n",
    "with tf.GradientTape() as tape:\n",
    "    tf_z2 = h2(tf_w)\n",
    "    \n",
    "grad_h2 = tape.gradient(tf_z2, tf_w)\n",
    "\n",
    "grad_h2"
   ]
  },
  {
   "cell_type": "markdown",
   "metadata": {},
   "source": [
    "Confirm that you get the same gradient as for h1."
   ]
  },
  {
   "cell_type": "code",
   "execution_count": 5,
   "metadata": {},
   "outputs": [
    {
     "name": "stdout",
     "output_type": "stream",
     "text": [
      "Using torch 1.9.0\n"
     ]
    }
   ],
   "source": [
    "import torch\n",
    "print(\"Using torch\", torch.__version__)"
   ]
  },
  {
   "cell_type": "code",
   "execution_count": 6,
   "metadata": {},
   "outputs": [
    {
     "data": {
      "text/plain": [
       "<torch._C.Generator at 0x1bd3de52610>"
      ]
     },
     "execution_count": 6,
     "metadata": {},
     "output_type": "execute_result"
    }
   ],
   "source": [
    "torch.manual_seed(13)"
   ]
  },
  {
   "cell_type": "code",
   "execution_count": 7,
   "metadata": {},
   "outputs": [
    {
     "data": {
      "text/plain": [
       "tensor([1, 2, 3, 4, 5])"
      ]
     },
     "execution_count": 7,
     "metadata": {},
     "output_type": "execute_result"
    }
   ],
   "source": [
    "data = [1, 2, 3, 4, 5]\n",
    "first_tensor = torch.tensor(data)\n",
    "\n",
    "first_tensor"
   ]
  },
  {
   "cell_type": "code",
   "execution_count": 8,
   "metadata": {},
   "outputs": [
    {
     "data": {
      "text/plain": [
       "tensor([[0, 1],\n",
       "        [2, 3],\n",
       "        [4, 5]])"
      ]
     },
     "execution_count": 8,
     "metadata": {},
     "output_type": "execute_result"
    }
   ],
   "source": [
    "data = [[0, 1],\n",
    "        [2, 3], \n",
    "        [4, 5]\n",
    "       ]\n",
    "\n",
    "second_tensor = torch.tensor(data)\n",
    "\n",
    "second_tensor"
   ]
  },
  {
   "cell_type": "code",
   "execution_count": null,
   "metadata": {},
   "outputs": [],
   "source": []
  }
 ],
 "metadata": {
  "kernelspec": {
   "display_name": "Python 3",
   "language": "python",
   "name": "python3"
  },
  "language_info": {
   "codemirror_mode": {
    "name": "ipython",
    "version": 3
   },
   "file_extension": ".py",
   "mimetype": "text/x-python",
   "name": "python",
   "nbconvert_exporter": "python",
   "pygments_lexer": "ipython3",
   "version": "3.8.8"
  }
 },
 "nbformat": 4,
 "nbformat_minor": 4
}
