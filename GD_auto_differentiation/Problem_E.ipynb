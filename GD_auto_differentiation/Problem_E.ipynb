{
 "cells": [
  {
   "cell_type": "code",
   "execution_count": 1,
   "id": "76738e08",
   "metadata": {},
   "outputs": [],
   "source": [
    "import numpy as np\n",
    "import torch\n",
    "from torch import autograd\n",
    "from matplotlib import pyplot as plt"
   ]
  },
  {
   "cell_type": "markdown",
   "id": "cad316fe",
   "metadata": {},
   "source": [
    "# Problem E.1 \n",
    "Consider the function \n",
    "<center>\n",
    "$f(x) = (x - 1)^4 + 3$\n",
    "</center>"
   ]
  },
  {
   "cell_type": "markdown",
   "id": "344d9075",
   "metadata": {},
   "source": [
    "## 1.\n",
    "Compute the symbolic derivative of the above function. Then compute the value of\n",
    "derivative of the function at $x = 2$, i.e $\\frac{df}{dx} (x = 2)$."
   ]
  },
  {
   "cell_type": "markdown",
   "id": "466a493a",
   "metadata": {},
   "source": [
    "With paper and pencil, we work out that the symbolic derivative of the function is $\\frac{df}{dx} = 4(x - 1)^3$, and that the value of derivative of the function at $x = 2$ is $4$."
   ]
  },
  {
   "cell_type": "markdown",
   "id": "8f38ab94",
   "metadata": {},
   "source": [
    "## 2.\n",
    "Code up the above function as a Python function using torch mathematical expressions (otherwise autograd will not work). Use PyTorch auto-differentation to get the same result of the derivative (gradient) at $x = 2$.\n",
    "## 3.\n",
    "Show your commented code in a snippet in your report/presentation and show that\n",
    "the value is the same as the one you calculated by hand."
   ]
  },
  {
   "cell_type": "code",
   "execution_count": 2,
   "id": "1d63d8cf",
   "metadata": {},
   "outputs": [
    {
     "name": "stdout",
     "output_type": "stream",
     "text": [
      "4.0\n"
     ]
    }
   ],
   "source": [
    "import numpy as np\n",
    "import torch\n",
    "from torch import autograd\n",
    "from matplotlib import pyplot as plt\n",
    "\n",
    "# Define the function as a python function using valid PyTorch math operations\n",
    "def f(x):\n",
    "    return torch.pow((x - 1), 4) + 3\n",
    "\n",
    "# Create the tensor with value equal to point of interest\n",
    "x0 = torch.tensor(2.0, requires_grad = True)\n",
    "# Evaluate function value at the points of interest. We should expect the answer a tensor with value 4.0.\n",
    "fx0 = f(x0)\n",
    "# Now for the gradient computation: We simply call .backward() on the result fx0\n",
    "fx0.backward() # Should evaluate to tensor(4.)。\n",
    "x0.grad # tensor(4.)\n",
    "print(x0.grad.item()) "
   ]
  },
  {
   "cell_type": "markdown",
   "id": "b9583d55",
   "metadata": {},
   "source": [
    "# Problem E.2: \n",
    "Consider the function \n",
    "<center>\n",
    "$f(x, y, z) = xy + xz + yz + x^2 + e^y + zsin(x)$\n",
    "</center>"
   ]
  },
  {
   "cell_type": "markdown",
   "id": "22daf556",
   "metadata": {},
   "source": [
    "# 1. \n",
    "Compute the expression for $\\nabla$$f(x, y, z)$ by hand. In other words, compute the symbolic expressions for the gradient of the function $f$, containing all 3 three partial derivatives. Show the expressions for each partial derivative of $f$."
   ]
  },
  {
   "cell_type": "markdown",
   "id": "cf0ae3e8",
   "metadata": {},
   "source": [
    "<center>\n",
    "$\\frac{\\partial f}{\\partial x} = y + z + 2x + zcos(x)$\n",
    "<br>\n",
    "$\\frac{\\partial f}{\\partial y} = x + z + e^y$\n",
    "<br>\n",
    "$\\frac{\\partial f}{\\partial z} = x + y + sin(x)$\n",
    "</center>"
   ]
  },
  {
   "cell_type": "markdown",
   "id": "864dbdaa",
   "metadata": {},
   "source": [
    "## 2. \n",
    "What is the gradient of $f$ at the point (${x = \\pi, y = 2.0, z = 2.0}$)?"
   ]
  },
  {
   "cell_type": "markdown",
   "id": "fc8979d0",
   "metadata": {},
   "source": [
    "The gradient of $f$ at the point (${x = \\pi, y = 2.0, z = 2.0}$) is $(8.2832, 12.5306, 5.1416)$."
   ]
  },
  {
   "cell_type": "markdown",
   "id": "add265c4",
   "metadata": {},
   "source": [
    "## 3. \n",
    "Determine the gradient of $f$ using auto-differentiation in PyTorch.\n",
    "<br>\n",
    "Show your commented code in a snippet in your report/presentation and show that\n",
    "the value is the same as the one you calculated by hand."
   ]
  },
  {
   "cell_type": "code",
   "execution_count": 3,
   "id": "a837827f",
   "metadata": {},
   "outputs": [
    {
     "name": "stdout",
     "output_type": "stream",
     "text": [
      "8.283185958862305 12.530649185180664 5.141592502593994\n"
     ]
    }
   ],
   "source": [
    "import numpy as np\n",
    "import torch\n",
    "from torch import autograd\n",
    "from matplotlib import pyplot as plt\n",
    "\n",
    "def f(x, y, z):\n",
    "    return x * y + x * z + y * z + torch.pow(x, 2) + torch.exp(y) + z * torch.sin(x)\n",
    "\n",
    "x0 = torch.tensor(np.pi, requires_grad = True)\n",
    "y0 = torch.tensor(2.0, requires_grad = True)\n",
    "z0 = torch.tensor(2.0, requires_grad = True)\n",
    "\n",
    "fx0y0z0 = f(x0, y0, z0)\n",
    "fx0y0z0.backward()\n",
    "print(x0.grad.item(), y0.grad.item(), z0.grad.item())"
   ]
  },
  {
   "cell_type": "markdown",
   "id": "90c2e0bd",
   "metadata": {},
   "source": [
    "# Problem E.3: \n",
    "Consider the three functions below (defined as a composition), where each function is assumed to use as input the output of the function above it.\n",
    "<center>\n",
    "    <br>\n",
    "    $f(x, y) = x^2 + y^2$\n",
    "    <br>\n",
    "    $g(f) = e^{-f}$\n",
    "    <br>\n",
    "    $h(g) = ln(g) + g$\n",
    "</center>"
   ]
  },
  {
   "cell_type": "markdown",
   "id": "f613a32c",
   "metadata": {},
   "source": [
    "## 1.\n",
    "Compute expressions for the partial derivatives $\\frac{\\partial f}{\\partial x}$, $\\frac{\\partial f}{\\partial y}$, $\\frac{dg}{df}$, $\\frac{dh}{dg}$."
   ]
  },
  {
   "cell_type": "markdown",
   "id": "9bc9914d",
   "metadata": {},
   "source": [
    "$\\frac{\\partial f}{\\partial x} = 2x$\n",
    "<br>\n",
    "$\\frac{\\partial f}{\\partial y} = 2y$\n",
    "<br>\n",
    "$\\frac{dg}{df} = -\\frac{1}{e^f}$\n",
    "<br>\n",
    "$\\frac{dh}{dg} = \\frac{1}{f} + 1$"
   ]
  },
  {
   "cell_type": "markdown",
   "id": "333edb52",
   "metadata": {},
   "source": [
    "## 2. \n",
    "Compute the expressions for $\\frac{\\partial h}{\\partial x}$ and $\\frac{\\partial h}{\\partial y}$, using the chain rule. You should give the expression in terms of only $\\frac{\\partial f}{\\partial x}$, $\\frac{\\partial f}{\\partial y}$, $\\frac{dg}{df}$, $\\frac{dh}{dg}$."
   ]
  },
  {
   "cell_type": "markdown",
   "id": "b0bc3f3b",
   "metadata": {},
   "source": [
    "$\\frac{\\partial h}{\\partial x} = \\frac{dh}{dg}\\frac{dg}{df}\\frac{\\partial f}{\\partial x} = -2xe^{-x^2 - y^2} - 2x$\n",
    "<br>\n",
    "$\\frac{\\partial h}{\\partial y} = \\frac{dh}{dg}\\frac{dg}{df}\\frac{\\partial f}{\\partial y} = -2ye^{-x^2 - y^2} - 2y$"
   ]
  },
  {
   "cell_type": "markdown",
   "id": "b281d6ab",
   "metadata": {},
   "source": [
    "# Problem E.4: PyTorch Gradient Descent problem, one variable\n",
    "<center>\n",
    "    $f(x) = -e^{-(x - \\pi)^2} + 0.01 * (x - \\pi)^2$\n",
    "</center>"
   ]
  },
  {
   "cell_type": "markdown",
   "id": "4c6b8636",
   "metadata": {},
   "source": [
    "## 1. \n",
    "Plot the above function on the interval $[-5, 11]$."
   ]
  },
  {
   "cell_type": "code",
   "execution_count": 4,
   "id": "51629629",
   "metadata": {},
   "outputs": [
    {
     "data": {
      "text/plain": [
       "[<matplotlib.lines.Line2D at 0x201d64d5d00>]"
      ]
     },
     "execution_count": 4,
     "metadata": {},
     "output_type": "execute_result"
    },
    {
     "data": {
      "image/png": "[encoded data removed]",
      "text/plain": [
       "<Figure size 432x288 with 1 Axes>"
      ]
     },
     "metadata": {
      "needs_background": "light"
     },
     "output_type": "display_data"
    }
   ],
   "source": [
    "import numpy as np\n",
    "import torch\n",
    "from torch import autograd\n",
    "from matplotlib import pyplot as plt\n",
    "\n",
    "def f(x):\n",
    "    return -torch.exp(-torch.pow((x - np.pi), 2)) + 0.01 * torch.pow(x - np.pi, 2)\n",
    "\n",
    "x = torch.linspace(-5.0, 11.0, 100)\n",
    "y = f(x)\n",
    "\n",
    "plt.title(\"$f(x) = -e^{-(x - \\pi)^2} + 0.01 * (x - \\pi)^2$\") \n",
    "plt.xlabel(\"x\") \n",
    "plt.ylabel(\"y\") \n",
    "plt.plot(x,y) "
   ]
  },
  {
   "cell_type": "markdown",
   "id": "f4247993",
   "metadata": {},
   "source": [
    "## 2.\n",
    "Find the minimum of the above function by coding up the problem and solution in PyTorch, like in the previous examples. Try different step lengths, observe the behaviour a step size $\\eta = 1.0$ and where $\\eta = 0.1$, and $\\eta = 0.01$, Also track the trajectory of your solution and overlay them on top of the plot, or make a separate plot."
   ]
  },
  {
   "cell_type": "code",
   "execution_count": 5,
   "id": "c62389b3",
   "metadata": {},
   "outputs": [],
   "source": [
    "import numpy as np\n",
    "import torch\n",
    "from torch import autograd\n",
    "from matplotlib import pyplot as plt\n",
    "\n",
    "# Define the objective function.\n",
    "def f(x):\n",
    "    return -torch.exp(-torch.pow((x - np.pi), 2)) + 0.01 * torch.pow(x - np.pi, 2)\n",
    "\n",
    "# Gradient decent function. 有问题！请根据E5修改，否则Inital guess永远不会出现\n",
    "def gradient_f(f, x, eta, nr_steps):\n",
    "    # Input: \n",
    "    # f: objective function; \n",
    "    # x: variables; \n",
    "    # eta: step length; \n",
    "    # nr_steps: the maximum of the iteration times\n",
    "    #\n",
    "    # Return:\n",
    "    # trajectory_x: a list containing variable x\n",
    "    # trajectory_fx: a list containing f(x) values\n",
    "    \n",
    "    # Create two empty lists to store the trajectory, say 𝑡𝑟𝑎𝑗𝑒𝑐𝑡𝑜𝑟𝑦_𝑥 and 𝑡𝑟𝑎𝑗𝑒𝑐𝑡𝑜𝑟𝑦_𝑓𝑥.\n",
    "    trajectory_x =[]\n",
    "    trajectory_fx =[]   \n",
    "    for i in range(nr_steps):\n",
    "        trajectory_x.append(x.detach().clone().numpy())\n",
    "        # Compute function at x.\n",
    "        fx = f(x)\n",
    "        # Add the value of fx into the end of the trajectory_fx.\n",
    "        trajectory_fx.append(fx.item())\n",
    "        # Compute gradient ->  populate all partial derivatives\n",
    "        fx.backward()\n",
    "    \n",
    "        # Gradient decent update.\n",
    "        with torch.no_grad():\n",
    "            x -= eta * x.grad\n",
    "        \n",
    "        if (torch.abs(x.grad) > 0.00001): # Stopping criteria: to judge when to stop iterations.\n",
    "            # Eliminate the gradient to avoid the accumulation of previous gradients of x.\n",
    "            x.grad.zero_()\n",
    "        else:\n",
    "            break\n",
    "\n",
    "    return trajectory_x, trajectory_fx"
   ]
  },
  {
   "cell_type": "code",
   "execution_count": 6,
   "id": "2cbb4b87",
   "metadata": {},
   "outputs": [
    {
     "name": "stdout",
     "output_type": "stream",
     "text": [
      "The minimum of the function is -0.9899, when x = 3.0413.\n"
     ]
    },
    {
     "data": {
      "text/plain": [
       "[<matplotlib.lines.Line2D at 0x201d67ca970>]"
      ]
     },
     "execution_count": 6,
     "metadata": {},
     "output_type": "execute_result"
    },
    {
     "data": {
      "image/png": "[encoded data removed]",
      "text/plain": [
       "<Figure size 432x288 with 1 Axes>"
      ]
     },
     "metadata": {
      "needs_background": "light"
     },
     "output_type": "display_data"
    }
   ],
   "source": [
    "# Initial starting guess. Let's say 6.\n",
    "x_0 = torch.tensor(6.0, requires_grad = True)\n",
    "# Step length, eta. Let's say 1.\n",
    "eta = 1\n",
    "# Set the maximum of the iteration times. Let's say 5000 times.\n",
    "nr_steps = 5000\n",
    "\n",
    "# Call the graident function.\n",
    "result = gradient_f(f, x_0, eta, nr_steps)\n",
    "# Optimal x.\n",
    "optimal_x = result[0][-1]\n",
    "# The minimum f(x) value.\n",
    "min_fx = result[1][-1]\n",
    "\n",
    "print(\"The minimum of the function is {:.4f}, when x = {:.4f}.\".format(min_fx, optimal_x))\n",
    "\n",
    "# Plot.\n",
    "plt.title(\"$f(x) = -e^{-(x - \\pi)^2} + 0.01 * (x - \\pi)^2$, when step_length = 1.\") \n",
    "plt.xlabel(\"x\") \n",
    "plt.ylabel(\"y\") \n",
    "plt.scatter(result[0],result[1]) \n",
    "\n",
    "\n",
    "x = torch.linspace(-5.0, 11.0, 100)\n",
    "y = f(x)\n",
    "plt.title(\"$f(x) = -e^{-(x - \\pi)^2} + 0.01 * (x - \\pi)^2$\") \n",
    "plt.xlabel(\"x\") \n",
    "plt.ylabel(\"y\") \n",
    "plt.plot(x,y) \n",
    "plt.title(\"$f(x) = -e^{-(x - \\pi)^2} + 0.01 * (x - \\pi)^2$\") \n",
    "plt.xlabel(\"x\") \n",
    "plt.ylabel(\"y\") \n",
    "plt.plot(x,y) "
   ]
  },
  {
   "cell_type": "code",
   "execution_count": 7,
   "id": "218bdcbf",
   "metadata": {},
   "outputs": [
    {
     "name": "stdout",
     "output_type": "stream",
     "text": [
      "The minimum of the function is -1.0000, when x = 3.1416.\n"
     ]
    },
    {
     "data": {
      "text/plain": [
       "[<matplotlib.lines.Line2D at 0x201dd851850>]"
      ]
     },
     "execution_count": 7,
     "metadata": {},
     "output_type": "execute_result"
    },
    {
     "data": {
      "image/png": "[encoded data removed]",
      "text/plain": [
       "<Figure size 432x288 with 1 Axes>"
      ]
     },
     "metadata": {
      "needs_background": "light"
     },
     "output_type": "display_data"
    }
   ],
   "source": [
    "# Initial starting guess. Let's say 1.\n",
    "x = torch.tensor(10.0, requires_grad = True)\n",
    "# Step length, eta. Let's say 0.1.\n",
    "eta = 0.1\n",
    "# Set the maximum of the iteration times. Let's say 5000 times.\n",
    "nr_steps = 5000\n",
    "\n",
    "# Call the graident function.\n",
    "result = gradient_f(f, x, eta, nr_steps)\n",
    "# Optimal x.\n",
    "optimal_x = result[0][-1]\n",
    "# The minimum f(x) value.\n",
    "min_fx = result[1][-1]\n",
    "\n",
    "print(\"The minimum of the function is {:.4f}, when x = {:.4f}.\".format(min_fx, optimal_x))\n",
    "\n",
    "# Plot.\n",
    "plt.title(\"$f(x) = -e^{-(x - \\pi)^2} + 0.01 * (x - \\pi)^2$, when step_length = 0.1.\") \n",
    "plt.xlabel(\"x\") \n",
    "plt.ylabel(\"y\") \n",
    "plt.scatter(result[0],result[1])\n",
    "\n",
    "x = torch.linspace(-5.0, 11.0, 100)\n",
    "y = f(x)\n",
    "plt.title(\"$f(x) = -e^{-(x - \\pi)^2} + 0.01 * (x - \\pi)^2$\") \n",
    "plt.xlabel(\"x\") \n",
    "plt.ylabel(\"y\") \n",
    "plt.plot(x,y) \n",
    "plt.title(\"$f(x) = -e^{-(x - \\pi)^2} + 0.01 * (x - \\pi)^2$\") \n",
    "plt.xlabel(\"x\") \n",
    "plt.ylabel(\"y\") \n",
    "plt.plot(x,y)"
   ]
  },
  {
   "cell_type": "code",
   "execution_count": 8,
   "id": "11e23941",
   "metadata": {},
   "outputs": [
    {
     "name": "stdout",
     "output_type": "stream",
     "text": [
      "The minimum of the function is -1.0000, when x = 3.1416.\n"
     ]
    },
    {
     "data": {
      "text/plain": [
       "[<matplotlib.lines.Line2D at 0x201dd8d62e0>]"
      ]
     },
     "execution_count": 8,
     "metadata": {},
     "output_type": "execute_result"
    },
    {
     "data": {
      "image/png": "[encoded data removed]",
      "text/plain": [
       "<Figure size 432x288 with 1 Axes>"
      ]
     },
     "metadata": {
      "needs_background": "light"
     },
     "output_type": "display_data"
    }
   ],
   "source": [
    "# Initial starting guess. Let's say 6.\n",
    "x = torch.tensor(6.0, requires_grad = True)\n",
    "# Step length, eta. Let's say 0.1.\n",
    "eta = 0.01\n",
    "# Set the maximum of the iteration times. Let's say 5000 times.\n",
    "nr_steps = 5000\n",
    "\n",
    "# Call the graident function.\n",
    "result = gradient_f(f, x, eta, nr_steps)\n",
    "# Optimal x.\n",
    "optimal_x = result[0][-1]\n",
    "# The minimum f(x) value.\n",
    "min_fx = result[1][-1]\n",
    "\n",
    "print(\"The minimum of the function is {:.4f}, when x = {:.4f}.\".format(min_fx, optimal_x))\n",
    "# Plot.\n",
    "plt.title(\"$f(x) = -e^{-(x - \\pi)^2} + 0.01 * (x - \\pi)^2$, when step_length = 0.01.\") \n",
    "plt.xlabel(\"x\") \n",
    "plt.ylabel(\"y\") \n",
    "plt.scatter(result[0],result[1]) \n",
    "\n",
    "x = torch.linspace(-5.0, 11.0, 100)\n",
    "y = f(x)\n",
    "plt.title(\"$f(x) = -e^{-(x - \\pi)^2} + 0.01 * (x - \\pi)^2$\") \n",
    "plt.xlabel(\"x\") \n",
    "plt.ylabel(\"y\") \n",
    "plt.plot(x,y) \n",
    "plt.title(\"$f(x) = -e^{-(x - \\pi)^2} + 0.01 * (x - \\pi)^2$\") \n",
    "plt.xlabel(\"x\") \n",
    "plt.ylabel(\"y\") \n",
    "plt.plot(x,y) "
   ]
  },
  {
   "cell_type": "markdown",
   "id": "ec974edb",
   "metadata": {},
   "source": [
    "# Problem E.5: PyTorch Gradient Descent problem - multivariable\n",
    "<center>\n",
    "    $f(x) = (x - 3$1$)^T(x - 3$1$) = (x_1 - 3)^2 + (x_2 - 3)^2$\n",
    "</center>\n",
    "\n"
   ]
  },
  {
   "cell_type": "markdown",
   "id": "53ddd966",
   "metadata": {},
   "source": [
    "## 1. \n",
    "The above function has a global minimum at the point $x = [3.0, 3.0]$. Confirm that\n",
    "this is the case by coding up a gradient decent minimization script for the above\n",
    "function, starting at some suitable close by point. Track the solution history and plot\n",
    "these solutions for each iteration on top of a contour plot of the above function. Use\n",
    "a suitable step size that doesn't result in 'zig-zag'-ing around the minimum. What\n",
    "was the value of the step length that did the job?\n",
    "<br>\n",
    "For plotting 2D functions, you should look into the words 'numpy meshgrid' or 'torch\n",
    "meshgrid' and 'pyplot plt.contourf' (you'll also use this in the next assignment)"
   ]
  },
  {
   "cell_type": "code",
   "execution_count": 9,
   "id": "1f73bee8",
   "metadata": {},
   "outputs": [],
   "source": [
    "import numpy as np\n",
    "import torch\n",
    "from torch import autograd\n",
    "from matplotlib import pyplot as plt\n",
    "\n",
    "def f(x):\n",
    "    three_vector = 3 * torch.ones_like(x)\n",
    "    return (x - three_vector).T @ (x - three_vector)\n",
    "\n",
    "def gradient_f(f, x, eta, nr_steps):\n",
    "    trajectory_x = []\n",
    "    trajectory_fx = []\n",
    "    \n",
    "    for i in range(nr_steps):\n",
    "        trajectory_x.append(x.detach().clone().numpy()) \n",
    "        # Compute function at x.\n",
    "        fx = f(x)\n",
    "        # Add the value of fx into the end of the trajectory_fx.\n",
    "        trajectory_fx.append(fx.item())\n",
    "        # Compute gradient ->  populate all partial derivatives\n",
    "        fx.backward()\n",
    "    \n",
    "        # Gradient decent update.\n",
    "        with torch.no_grad():\n",
    "            x -= eta * x.grad\n",
    "        \n",
    "#         if (torch.abs(x[0].grad) > 0.001 and torch.abs(x[1].grad) > 0.001) : # Stopping criteria: to judge when to stop iterations.\n",
    "#             # Add the x value into the trajectory_x to record it\n",
    "#             trajectory_x.append(x.detach().clone().numpy())\n",
    "#             # Eliminate the gradient to avoid the accumulation of previous gradients of x.\n",
    "#             x.grad.zero_()\n",
    "#         else:\n",
    "#             # There will be one more extra fx value in the trajectory_fx. We need to delete it.\n",
    "#             trajectory_fx.pop()\n",
    "\n",
    "        x.grad.zero_()\n",
    "    \n",
    "    return trajectory_x, trajectory_fx"
   ]
  },
  {
   "cell_type": "code",
   "execution_count": 10,
   "id": "5fd634e2",
   "metadata": {},
   "outputs": [
    {
     "data": {
      "text/plain": [
       "<matplotlib.collections.PathCollection at 0x201dd8e2b80>"
      ]
     },
     "execution_count": 10,
     "metadata": {},
     "output_type": "execute_result"
    },
    {
     "data": {
      "image/png": "[encoded data removed]",
      "text/plain": [
       "<Figure size 432x288 with 1 Axes>"
      ]
     },
     "metadata": {
      "needs_background": "light"
     },
     "output_type": "display_data"
    }
   ],
   "source": [
    "# Initial starting guess. Let's say [6.0, 1.0].\n",
    "x = torch.tensor([6.0, 1.0], requires_grad = True)\n",
    "trajectory_x, trajectory_fx = gradient_f(f, x, eta=0.1, nr_steps=5000)\n",
    "\n",
    "def f(X1, X2):\n",
    "    return (X1 - 3) ** 2 + (X2 - 3) ** 2\n",
    "\n",
    "res = np.array(trajectory_x)\n",
    "X1 = torch.linspace(-10, 10, 1000)\n",
    "X2 = torch.linspace(-10, 10, 1000)\n",
    "X1, X2 = torch.meshgrid(X1, X2)\n",
    "Y = f(X1, X2)\n",
    "\n",
    "plt.contourf(X1, X2, Y, levels = 20)\n",
    "plt.scatter(res[:, 0], res[:, 1])"
   ]
  },
  {
   "cell_type": "markdown",
   "id": "93715d90",
   "metadata": {},
   "source": [
    "# Problem E.6: The Unavoidable Problem of Local Minima.\n",
    "Consider the function\n",
    "<center>\n",
    "    $f(x) = -e^{-(x - 1)^2} - 5e^{-(x - 10)^2}$\n",
    "</center>    "
   ]
  },
  {
   "cell_type": "markdown",
   "id": "dacb8953",
   "metadata": {},
   "source": [
    "## 1. \n",
    "Plot the above function in the interval [-10, 20]. (remember, with only valid Py-\n",
    "Torch valid operations). How many minima does this function have? How would\n",
    "you describe the function graph and what would you say could make this particular\n",
    "function-graph harder to find for Gradient Decent to optimize?"
   ]
  },
  {
   "cell_type": "code",
   "execution_count": 11,
   "id": "7e3c945f",
   "metadata": {},
   "outputs": [
    {
     "data": {
      "text/plain": [
       "[<matplotlib.lines.Line2D at 0x201dde6b3a0>]"
      ]
     },
     "execution_count": 11,
     "metadata": {},
     "output_type": "execute_result"
    },
    {
     "data": {
      "image/png": "[encoded data removed]",
      "text/plain": [
       "<Figure size 432x288 with 1 Axes>"
      ]
     },
     "metadata": {
      "needs_background": "light"
     },
     "output_type": "display_data"
    }
   ],
   "source": [
    "import numpy as np\n",
    "import torch\n",
    "from torch import autograd\n",
    "from matplotlib import pyplot as plt\n",
    "\n",
    "def f(x):\n",
    "    return -torch.exp(- (x - 1) ** 2) - 5 * torch.exp(- (x - 10) ** 2)\n",
    "\n",
    "x = torch.linspace(-10.0, 20, 300)\n",
    "y = f(x)\n",
    "\n",
    "plt.title(\"$f(x) = -e^{-(x - 1)^2} - 5e^{-(x - 10)^2}$\") \n",
    "plt.xlabel(\"x\") \n",
    "plt.ylabel(\"y\") \n",
    "plt.plot(x,y) "
   ]
  },
  {
   "cell_type": "markdown",
   "id": "8e9a7a83",
   "metadata": {},
   "source": [
    "As is shown above, there are two local minimas.\n",
    "<br>\n",
    "We can see that the maximum of the function is 0 and the minimum is -5. However, there are two local minimas. It would be harder to optimize because there are unavoidable local minimas which may prevent us finding the global minima."
   ]
  },
  {
   "cell_type": "markdown",
   "id": "ce563faa",
   "metadata": {},
   "source": [
    "## 2. \n",
    "Now you are to code up the usual gradient decent algorithm as you've done before in\n",
    "order to find the minima of the function. Based on the plot of the function, where\n",
    "would you put a good initial starting position $x_0$? Why there? When you run Gradient\n",
    "Descent at that position, to you find that you end up in the global minimum?\n",
    "<br>\n",
    "\"Looking at the plot\" is often not doable when our objective functions are grotesquely\n",
    "multivariable. Then, we might start at some random position within some region. Try\n",
    "with a random starting position and see in which local minima you end up. You should\n",
    "show solution trajectories on the function plot, for both cases where you end."
   ]
  },
  {
   "cell_type": "code",
   "execution_count": 12,
   "id": "7e9252fb",
   "metadata": {},
   "outputs": [],
   "source": [
    "import numpy as np\n",
    "import torch\n",
    "from torch import autograd\n",
    "from matplotlib import pyplot as plt\n",
    "\n",
    "def f(x):\n",
    "    return -torch.exp(- (x - 1) ** 2) - 5 * torch.exp(- (x - 10) ** 2)\n",
    "\n",
    "# Gradient decent function.\n",
    "def gradient_f(f, x, eta, nr_steps):\n",
    "    # Input: \n",
    "    # f: objective function; \n",
    "    # x: variables; \n",
    "    # eta: step length; \n",
    "    # nr_steps: the maximum of the iteration times\n",
    "    #\n",
    "    # Return:\n",
    "    # trajectory_x: a list containing variable x\n",
    "    # trajectory_fx: a list containing f(x) values\n",
    "    \n",
    "    # Create two empty lists to store the trajectory, say 𝑡𝑟𝑎𝑗𝑒𝑐𝑡𝑜𝑟𝑦_𝑥 and 𝑡𝑟𝑎𝑗𝑒𝑐𝑡𝑜𝑟𝑦_𝑓𝑥.\n",
    "    trajectory_x =[]\n",
    "    trajectory_fx =[]   \n",
    "    for i in range(nr_steps):\n",
    "        trajectory_x.append(x.detach().clone().numpy())\n",
    "        # Compute function at x.\n",
    "        fx = f(x)\n",
    "        # Add the value of fx into the end of the trajectory_fx.\n",
    "        trajectory_fx.append(fx.item())\n",
    "        # Compute gradient ->  populate all partial derivatives\n",
    "        fx.backward()\n",
    "    \n",
    "        # Gradient decent update.\n",
    "        with torch.no_grad():\n",
    "            x -= eta * x.grad\n",
    "            \n",
    "        if (torch.abs(x.grad) > 0.00001): # Stopping criteria: to judge when to stop iterations.\n",
    "            # Eliminate the gradient to avoid the accumulation of previous gradients of x.\n",
    "            x.grad.zero_()\n",
    "        else:\n",
    "            break\n",
    "\n",
    "    return trajectory_x, trajectory_fx"
   ]
  },
  {
   "cell_type": "code",
   "execution_count": 13,
   "id": "e77166b5",
   "metadata": {},
   "outputs": [
    {
     "name": "stdout",
     "output_type": "stream",
     "text": [
      "The minimum of the function is -1.0000, when x = 1.0000.\n",
      "The minimum of the function is -5.0000, when x = 10.0000.\n"
     ]
    },
    {
     "data": {
      "text/plain": [
       "[<matplotlib.lines.Line2D at 0x201ddf63820>]"
      ]
     },
     "execution_count": 13,
     "metadata": {},
     "output_type": "execute_result"
    },
    {
     "data": {
      "image/png": "[encoded data removed]",
      "text/plain": [
       "<Figure size 432x288 with 1 Axes>"
      ]
     },
     "metadata": {
      "needs_background": "light"
     },
     "output_type": "display_data"
    }
   ],
   "source": [
    "# Initial starting guess. Let's say -2.0.\n",
    "x_0 = torch.tensor(-2.0, requires_grad = True)\n",
    "# Step length, eta. Let's say 0.1.\n",
    "eta = 0.1\n",
    "# Set the maximum of the iteration times. Let's say 5000 times.\n",
    "nr_steps = 5000\n",
    "\n",
    "# Call the graident function.\n",
    "result = gradient_f(f, x_0, eta, nr_steps)\n",
    "# Optimal x.\n",
    "optimal_x = result[0][-1]\n",
    "# The minimum f(x) value.\n",
    "min_fx = result[1][-1]\n",
    "\n",
    "print(\"The minimum of the function is {:.4f}, when x = {:.4f}.\".format(min_fx, optimal_x))\n",
    "\n",
    "# Plot.\n",
    "plt.title(\"Initial guess $x_0$: -2.0.\") \n",
    "plt.xlabel(\"x\") \n",
    "plt.ylabel(\"y\") \n",
    "plt.scatter(result[0],result[1])\n",
    "plt.text(result[0][0], result[1][0], \"maximal ({:.3f}, {:.3f})\".format(result[0][0], result[1][0]))\n",
    "\n",
    "# Initial starting guess. Let's say 12.0.\n",
    "x0 = torch.tensor(12.0, requires_grad = True)\n",
    "# Step length, eta. Let's say 0.1.\n",
    "eta = 0.1\n",
    "# Set the maximum of the iteration times. Let's say 50000 times.\n",
    "nr_steps = 50000\n",
    "\n",
    "# Call the graident function.\n",
    "result = gradient_f(f, x0, eta, nr_steps)\n",
    "\n",
    "# Optimal x.\n",
    "optimal_x = result[0][-1]\n",
    "# The minimum f(x) value.\n",
    "min_fx = result[1][-1]\n",
    "\n",
    "print(\"The minimum of the function is {:.4f}, when x = {:.4f}.\".format(min_fx, optimal_x))\n",
    "\n",
    "# Plot.\n",
    "plt.title(\"Initial guess $x_0$: 8.0.\") \n",
    "plt.xlabel(\"x\") \n",
    "plt.ylabel(\"y\") \n",
    "plt.scatter(result[0],result[1]) \n",
    "\n",
    "x = torch.linspace(-10.0, 20, 300)\n",
    "y = f(x)\n",
    "plt.title(\"$f(x) = -e^{-(x - 1)^2} - 5e^{-(x - 10)^2}$\") \n",
    "plt.xlabel(\"x\") \n",
    "plt.ylabel(\"y\") \n",
    "plt.plot(x,y) "
   ]
  },
  {
   "cell_type": "markdown",
   "id": "f0a380be",
   "metadata": {},
   "source": [
    "# Problem E.7: Local minima in 2D"
   ]
  },
  {
   "cell_type": "markdown",
   "id": "ddf1be9b",
   "metadata": {},
   "source": [
    "This problem will try to simulate even better the feeling of not knowing where to start a good initial guess $x_0$. Consider the multivariable function:\n",
    "<center>\n",
    "  $f(x, y) = (x^2 + y - 11)^2 + (x + y^2 - 7)^2$  \n",
    "</center>\n",
    "defined on the region $-6 \\leq x$, $y \\leq 6$."
   ]
  },
  {
   "cell_type": "markdown",
   "id": "c16e9595",
   "metadata": {},
   "source": [
    "## 1. \n",
    "Plot the function within the specified domain, and manually estimate roughly the\n",
    "number of minima the function has."
   ]
  },
  {
   "cell_type": "code",
   "execution_count": 14,
   "id": "1b0b6ad7",
   "metadata": {},
   "outputs": [
    {
     "name": "stderr",
     "output_type": "stream",
     "text": [
      "<ipython-input-14-aae6bf1dbc76>:16: UserWarning: The following kwargs were not used by contour: 'level'\n",
      "  plt.contourf(X, Y, Z, level = 20)\n"
     ]
    },
    {
     "data": {
      "text/plain": [
       "<matplotlib.contour.QuadContourSet at 0x201dd91b250>"
      ]
     },
     "execution_count": 14,
     "metadata": {},
     "output_type": "execute_result"
    },
    {
     "data": {
      "image/png": "[encoded data removed]",
      "text/plain": [
       "<Figure size 432x288 with 1 Axes>"
      ]
     },
     "metadata": {
      "needs_background": "light"
     },
     "output_type": "display_data"
    }
   ],
   "source": [
    "import numpy as np\n",
    "import torch\n",
    "from torch import autograd\n",
    "from matplotlib import pyplot as plt\n",
    "\n",
    "def f(x, y):\n",
    "    return np.power((np.power(x, 2) + y - 11), 2) + np.power((x + np.power(y, 2) - 7), 2)\n",
    "\n",
    "x = np.linspace(-6, 6, 2000)\n",
    "y = np.linspace(-6, 6, 2000)\n",
    "X, Y = np.meshgrid(x, y)\n",
    "Z = f(X, Y)\n",
    "\n",
    "plt.xlabel(\"x\")\n",
    "plt.ylabel(\"y\")\n",
    "plt.contourf(X, Y, Z, level = 20)"
   ]
  },
  {
   "cell_type": "markdown",
   "id": "3ac5a83b",
   "metadata": {},
   "source": [
    "Guess: there might be $4$ minimas."
   ]
  },
  {
   "cell_type": "markdown",
   "id": "680cd1f5",
   "metadata": {},
   "source": [
    "## 2. \n",
    "Code up the standard PyTorch Gradient Descent algorithm to minimize the above\n",
    "function. Play around with the step size until you find a value that works. Now you\n",
    "should find out the position and value of each of the minima you see within the region.\n",
    "Which among the minima you converge at is the global minimum?"
   ]
  },
  {
   "cell_type": "code",
   "execution_count": 15,
   "id": "6da979c1",
   "metadata": {},
   "outputs": [],
   "source": [
    "import numpy as np\n",
    "import torch\n",
    "from torch import autograd\n",
    "from matplotlib import pyplot as plt\n",
    "\n",
    "def f(x, y):\n",
    "    return torch.pow((torch.pow(x, 2) + y - 11), 2) + torch.pow((x + torch.pow(y, 2) - 7), 2)\n",
    "\n",
    "def gradient_f(f, x, y, eta, nr_steps):\n",
    "    trajectory_x = []\n",
    "    trajectory_y = []\n",
    "    trajectory_z = []\n",
    "    \n",
    "    for i in range(nr_steps):\n",
    "        trajectory_x.append(x.detach().clone().numpy()) \n",
    "        trajectory_y.append(y.detach().clone().numpy())\n",
    "        # Compute function at (x, y).\n",
    "        z = f(x, y)\n",
    "        # Add the value of fx into the end of the trajectory_fx.\n",
    "        trajectory_z.append(z.item())\n",
    "        # Compute gradient ->  populate all partial derivatives\n",
    "        z.backward()\n",
    "    \n",
    "        # Gradient decent update.\n",
    "        with torch.no_grad():\n",
    "            x -= eta * x.grad\n",
    "            y -= eta * y.grad\n",
    "        if (torch.abs(x.grad) > 0.01 or torch.abs(y.grad) > 0.01) : # Stopping criteria: to judge when to stop iterations.\n",
    "            # Eliminate the gradient to avoid the accumulation of previous gradients of x.\n",
    "            x.grad.zero_()\n",
    "            y.grad.zero_()\n",
    "        else:\n",
    "            break\n",
    "    \n",
    "    return trajectory_x, trajectory_y, trajectory_z"
   ]
  },
  {
   "cell_type": "code",
   "execution_count": 16,
   "id": "0312428a",
   "metadata": {},
   "outputs": [
    {
     "name": "stdout",
     "output_type": "stream",
     "text": [
      "When initial guess is (5, 5), the minimum of the function  is 0.0000, at (3.0001, 1.9996).\n",
      "When initial guess is (-6, -6), the minimum of the function  is 0.0000, at (-3.7793, -3.2831).\n",
      "When initial guess is (-4, -3), the minimum of the function  is 0.0000, at (3.5845, -1.8484).\n",
      "When initial guess is (-4, 4), the minimum of the function  is 0.0000, at (-2.8050, 3.1313).\n"
     ]
    },
    {
     "name": "stderr",
     "output_type": "stream",
     "text": [
      "<ipython-input-16-af0867fc3fc8>:14: UserWarning: The following kwargs were not used by contour: 'level'\n",
      "  plt.contourf(X, Y, Z, level = 20)\n"
     ]
    },
    {
     "data": {
      "image/png": "[encoded data removed]",
      "text/plain": [
       "<Figure size 432x288 with 1 Axes>"
      ]
     },
     "metadata": {
      "needs_background": "light"
     },
     "output_type": "display_data"
    }
   ],
   "source": [
    "# Initial guess: (5, 5)\n",
    "x_0 = torch.tensor(5.0, requires_grad = True)\n",
    "\n",
    "y_0 = torch.tensor(5.0, requires_grad = True)\n",
    "trajectory_x, trajectory_y, trajectory_z = gradient_f(f, x_0, y_0, eta = 0.01, nr_steps = 3000)\n",
    "\n",
    "x = torch.linspace(-6, 6, 2000)\n",
    "y = torch.linspace(-6, 6, 2000)\n",
    "X, Y = torch.meshgrid(x, y)\n",
    "Z = f(X, Y)\n",
    "\n",
    "plt.xlabel(\"x\")\n",
    "plt.ylabel(\"y\")\n",
    "plt.contourf(X, Y, Z, level = 20)\n",
    "plt.scatter(trajectory_x, trajectory_y)\n",
    "\n",
    "\n",
    "print(\"When initial guess is (5, 5), the minimum of the function  is {:.4f}, at ({:.4f}, {:.4f}).\"\n",
    "      .format(trajectory_z[-1], trajectory_x[-1], trajectory_y[-1]))\n",
    "\n",
    "\n",
    "# Initial guess: (-6, -6)\n",
    "x_0 = torch.tensor(-6.0, requires_grad = True)\n",
    "y_0 = torch.tensor(-6.0, requires_grad = True)\n",
    "trajectory_x, trajectory_y, trajectory_z = gradient_f(f, x_0, y_0, eta = 0.01, nr_steps = 3000)\n",
    "\n",
    "plt.xlabel(\"x\")\n",
    "plt.ylabel(\"y\")\n",
    "plt.scatter(trajectory_x, trajectory_y)\n",
    "\n",
    "print(\"When initial guess is (-6, -6), the minimum of the function  is {:.4f}, at ({:.4f}, {:.4f}).\"\n",
    "      .format(trajectory_z[-1], trajectory_x[-1], trajectory_y[-1]))\n",
    "\n",
    "\n",
    "# Initial guess: (5, -3)\n",
    "x_0 = torch.tensor(5.0, requires_grad = True)\n",
    "y_0 = torch.tensor(-3.0, requires_grad = True)\n",
    "trajectory_x, trajectory_y, trajectory_z = gradient_f(f, x_0, y_0, eta = 0.01, nr_steps = 3000)\n",
    "\n",
    "plt.xlabel(\"x\")\n",
    "plt.ylabel(\"y\")\n",
    "plt.scatter(trajectory_x, trajectory_y)\n",
    "\n",
    "print(\"When initial guess is (-4, -3), the minimum of the function  is {:.4f}, at ({:.4f}, {:.4f}).\"\n",
    "      .format(trajectory_z[-1], trajectory_x[-1], trajectory_y[-1]))\n",
    "\n",
    "\n",
    "# Initial guess: (-4, 3)\n",
    "x_0 = torch.tensor(-4.0, requires_grad = True)\n",
    "y_0 = torch.tensor(3.0, requires_grad = True)\n",
    "trajectory_x, trajectory_y, trajectory_z = gradient_f(f, x_0, y_0, eta = 0.01, nr_steps = 3000)\n",
    "\n",
    "plt.xlabel(\"x\")\n",
    "plt.ylabel(\"y\")\n",
    "plt.scatter(trajectory_x, trajectory_y)\n",
    "\n",
    "print(\"When initial guess is (-4, 4), the minimum of the function  is {:.4f}, at ({:.4f}, {:.4f}).\"\n",
    "      .format(trajectory_z[-1], trajectory_x[-1], trajectory_y[-1]))"
   ]
  },
  {
   "cell_type": "markdown",
   "id": "479801f8",
   "metadata": {},
   "source": [
    "# Problem E.8: Eprin Pharmaceuticals GmbH and Their Crappy Pain Killer\n",
    "Eprin Pharmaceuticals GmbH is a very fresh start up in the pain-killer industry and was\n",
    "started by two 'cool' and 'hip' dudes that wanted to \\disrupt\" the industry. The company\n",
    "provides yet another generic pain-killer, which they simply buy in large quantities from a\n",
    "third world country using an unclear distributor with a history of shady, exploitative labour\n",
    "tactics.\n",
    "<br>\n",
    "The start-up has a problem with its new product Nohurtveldon. People are complaining\n",
    "that using Nohurtveldon barely works as intended and even if it does work, it works for\n",
    "a very short time. Now imagine you are the company's first Quantitative Scientist. Also\n",
    "assume that you have read about this problem during your morning-meeting with your\n",
    "Research & Development team. Your thinking is that, for the active ingredient X (chem-\n",
    "ical compound of Nohurtveldon) to work, its blood concentration must reach above some\n",
    "threshold. Therefore you get reminded on some Pharmacokinetics theory in order to model\n",
    "how much the concentration of drug in the blood changes over time from the time a person\n",
    "intakes an initial dose. Lucky for you, there is already a mathematical formula/model that\n",
    "predicts the concentration of a drug in the body as a function of time as follows:\n",
    "<center>\n",
    "    $C(t) = \\frac{k_{ab} * f * M_0}{(k_{ab} - k_{el})*V_{blood}}(e^{-{k_{el}}t}-e^{-{k_{ab}}t})$\n",
    "</center>\n",
    "\n",
    "* $C(t)$ is the concentration of substance in the blood at time $t$.\n",
    "* $M_0$: Mass of drug administered at time zero - here meaning a Nohurtveldon pill.\n",
    "* $f$: Fraction of the drug absorbed.\n",
    "* $k_{ab}$: is the rate of chemical body absorption.\n",
    "* $k_{el}$: is the rate of elimination of compound X. This is basically the amount of compound that degrades per time unit and therefore can't be used by the body anymore.\n",
    "* $V_{blood}$: The volume of blood of a person ingesting the substance in question. The\n",
    "average amount of blood in an adult is between 4-8 liters ($dm^3$). Here, you should assume $V_{blood}$ = 5 liters."
   ]
  },
  {
   "cell_type": "markdown",
   "id": "1c30f073",
   "metadata": {},
   "source": [
    "## (b) \n",
    "Using a PyTorch approach, solve the above optimization problem, and determine if\n",
    "your suspicions are correct. Report this briefly but convincingly with formulas and\n",
    "plots."
   ]
  },
  {
   "cell_type": "code",
   "execution_count": 17,
   "id": "440214cd",
   "metadata": {},
   "outputs": [],
   "source": [
    "import numpy as np\n",
    "import torch\n",
    "from torch import autograd\n",
    "from matplotlib import pyplot as plt\n",
    "\n",
    "def c(t): # 在t的時候，藥物X在血液中的濃度(最少25mg/liter藥物才有效)\n",
    "    m0 = 400 #mg\n",
    "    f =0.5\n",
    "    kab = 0.3\n",
    "    kel = 0.1\n",
    "    vblood = 5 #liters\n",
    "    return (kab * f * m0)/((kab - kel) * vblood)*(torch.exp(-kel*t)-torch.exp(-kab*t)) #  c(t) > 25 =0"
   ]
  },
  {
   "cell_type": "code",
   "execution_count": 18,
   "id": "f643f9ac",
   "metadata": {},
   "outputs": [
    {
     "data": {
      "text/plain": [
       "[<matplotlib.lines.Line2D at 0x201dd97afd0>]"
      ]
     },
     "execution_count": 18,
     "metadata": {},
     "output_type": "execute_result"
    },
    {
     "data": {
      "image/png": "[encoded data removed]",
      "text/plain": [
       "<Figure size 432x288 with 1 Axes>"
      ]
     },
     "metadata": {
      "needs_background": "light"
     },
     "output_type": "display_data"
    }
   ],
   "source": [
    "t = torch.linspace(0, 50, 1000)\n",
    "plt.xlabel('$t$')\n",
    "plt.ylabel('$\\ c(t) $')\n",
    "plt.plot(t, c(t))"
   ]
  },
  {
   "cell_type": "code",
   "execution_count": 19,
   "id": "ed77311d",
   "metadata": {},
   "outputs": [
    {
     "data": {
      "text/plain": [
       "Text(5.4944954, 23.094009399414062, 'maximal (5.494, 23.094)')"
      ]
     },
     "execution_count": 19,
     "metadata": {},
     "output_type": "execute_result"
    },
    {
     "data": {
      "image/png": "[encoded data removed]",
      "text/plain": [
       "<Figure size 432x288 with 1 Axes>"
      ]
     },
     "metadata": {
      "needs_background": "light"
     },
     "output_type": "display_data"
    }
   ],
   "source": [
    "import numpy as np\n",
    "import torch\n",
    "from torch import autograd\n",
    "from matplotlib import pyplot as plt\n",
    "\n",
    "def c(t): # 在t的時候，藥物X在血液中的濃度(最少25mg/liter藥物才有效)\n",
    "    m0 = 400 #mg\n",
    "    f =0.5\n",
    "    kab = 0.3\n",
    "    kel = 0.1\n",
    "    vblood = 5 #liters\n",
    "    return (kab * f * m0)/((kab - kel) * vblood)*(torch.exp(-kel*t)-torch.exp(-kab*t)) #  c(t) > 25 =0\n",
    "\n",
    "\n",
    "def gradient_c(c, t, eta, nr_steps):\n",
    "    # Input: \n",
    "    # f: objective function; \n",
    "    # x: variables; \n",
    "    # eta: step length; \n",
    "    # nr_steps: the maximum of the iteration times\n",
    "    #\n",
    "    # Return:\n",
    "    # trajectory_x: a list containing variable x\n",
    "    # trajectory_fx: a list containing f(x) values\n",
    "    \n",
    "    # Create two empty lists to store the trajectory, say 𝑡𝑟𝑎𝑗𝑒𝑐𝑡𝑜𝑟𝑦_𝑥 and 𝑡𝑟𝑎𝑗𝑒𝑐𝑡𝑜𝑟𝑦_𝑓𝑥.\n",
    "    trajectory_t =[]\n",
    "    trajectory_c =[]   \n",
    "    for i in range(nr_steps):\n",
    "        trajectory_t.append(t.detach().clone().numpy())\n",
    "        # Compute function at t.\n",
    "        ct = c(t)\n",
    "        # Add the value of fx into the end of the trajectory_fx.\n",
    "        trajectory_c.append(ct.item())\n",
    "        # Compute gradient ->  populate all partial derivatives\n",
    "        ct.backward()\n",
    "    \n",
    "        # Gradient decent update.\n",
    "        with torch.no_grad():\n",
    "            t += eta * t.grad\n",
    "        \n",
    "        if (torch.abs(t.grad) > 0.001): # Stopping criteria: to judge when to stop iterations.\n",
    "            # Eliminate the gradient to avoid the accumulation of previous gradients of x.\n",
    "            t.grad.zero_()\n",
    "        else:\n",
    "            break\n",
    "            \n",
    "    return  trajectory_t, trajectory_c\n",
    "\n",
    "t_0 = torch.tensor(20.0, requires_grad = True)\n",
    "trajectory_t,  trajectory_c = gradient_c(c, t_0, eta = 0.01, nr_steps=5000)\n",
    "\n",
    "# print(trajectory_t[0])\n",
    "# print(trajectory_t[-1])\n",
    "# print(trajectory_c[-1])\n",
    "\n",
    "plt.scatter(trajectory_t, trajectory_c)\n",
    "t = torch.linspace(0, 50, 1000)\n",
    "plt.xlabel('$t$')\n",
    "plt.ylabel('$\\ c(t) $')\n",
    "plt.plot(t, c(t))\n",
    "\n",
    "plt.text(trajectory_t[-1], trajectory_c[-1], \"maximal ({:.3f}, {:.3f})\".format(trajectory_t[-1], trajectory_c[-1]))"
   ]
  },
  {
   "cell_type": "code",
   "execution_count": null,
   "id": "d71cf6a0",
   "metadata": {},
   "outputs": [],
   "source": []
  }
 ],
 "metadata": {
  "kernelspec": {
   "display_name": "Python 3",
   "language": "python",
   "name": "python3"
  },
  "language_info": {
   "codemirror_mode": {
    "name": "ipython",
    "version": 3
   },
   "file_extension": ".py",
   "mimetype": "text/x-python",
   "name": "python",
   "nbconvert_exporter": "python",
   "pygments_lexer": "ipython3",
   "version": "3.8.8"
  }
 },
 "nbformat": 4,
 "nbformat_minor": 5
}
