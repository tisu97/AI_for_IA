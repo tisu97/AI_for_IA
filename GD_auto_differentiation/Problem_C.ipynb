{
 "cells": [
  {
   "cell_type": "code",
   "execution_count": 1,
   "metadata": {},
   "outputs": [],
   "source": [
    "import numpy as np"
   ]
  },
  {
   "cell_type": "markdown",
   "metadata": {},
   "source": [
    "# Problem C.1\n",
    "Write a function in Python that can take any function $f$, any 1D numpy array representing a point $x$, and any difference delta as input, and then return the gradient of $f$, evaluated at $x$, using the finite diiference approximation introduced above. This function should then be\n",
    "used to solve the following problems."
   ]
  },
  {
   "cell_type": "code",
   "execution_count": 2,
   "metadata": {},
   "outputs": [],
   "source": [
    "def gradient_f(f, x, delta = 10e-6):\n",
    "    # Determine the dimension of x vector\n",
    "    N_dim = x.shape[0]\n",
    "    \n",
    "    # Create the zero vector, which is used to store the final gradient vector.\n",
    "    final_gradient = np.zeros(N_dim)\n",
    "    \n",
    "    for i in range(N_dim):\n",
    "        # x_0 is the initial value in the ith dimension of the x vector.\n",
    "        x_0 = x[i]\n",
    "        x_plus_delta = x_0 + delta\n",
    "        partial_f_x_i = (f(x_plus_delta) - f(x_0)) / delta\n",
    "        # Put the results of partial derivative in each direction into the final gradient vector.\n",
    "        final_gradient[i] = partial_f_x_i\n",
    "        \n",
    "    return final_gradient"
   ]
  },
  {
   "cell_type": "markdown",
   "metadata": {},
   "source": [
    "# Problem C.2\n",
    "Find the gradient of $f_{C.2}(x, y) = (x - 2)^2 + (y - 2)^2$ at the point $(1, 1)$ by"
   ]
  },
  {
   "cell_type": "markdown",
   "metadata": {},
   "source": [
    "## (a)\n",
    "Manual differentiation."
   ]
  },
  {
   "cell_type": "markdown",
   "metadata": {},
   "source": [
    "With paper and pencil, we work out that the gradient at the point $(1, 1)$ is $(-2, -2)$."
   ]
  },
  {
   "cell_type": "markdown",
   "metadata": {},
   "source": [
    "## (b)\n",
    "Implementing the above difference approximation method in Python, and then applying\n",
    "it to this task."
   ]
  },
  {
   "cell_type": "code",
   "execution_count": 3,
   "metadata": {},
   "outputs": [
    {
     "name": "stdout",
     "output_type": "stream",
     "text": [
      "The gradient at the point (1, 1) is [-1.99999 -1.99999].\n"
     ]
    }
   ],
   "source": [
    "# The original function.\n",
    "def f_C2(x, y):\n",
    "    f = (x - 2) ** 2 + (y - 2) ** 2\n",
    "    return f\n",
    "\n",
    "def gradient_f_C2(f, x, delta = 10e-6):\n",
    "    # Determine the dimension of x vector.\n",
    "    # Here, it is 2-dimensional because there are two variables in the original function.\n",
    "    N_dim = x.shape[0]\n",
    "    \n",
    "    # Create the zero vector, which is used to store the final gradient vector.\n",
    "    final_gradient = np.zeros(N_dim)\n",
    "    \n",
    "    for i in range(N_dim):\n",
    "        # x_0 is the initial value in the ith dimension of the x vector.\n",
    "        x_0 = x[i]\n",
    "        x_plus_delta = x_0 + delta\n",
    "        if (i == 0): # if i=0, it means that we are finding the partial derivative of x variable.\n",
    "            partial_f_x_i = (f(x_plus_delta, x[1]) - f(x_0, x[1])) / delta\n",
    "            # Put the results of partial derivative in each direction into the final gradient vector.\n",
    "            final_gradient[i] = partial_f_x_i\n",
    "        else: # if else, it means that we are finding the partial derivative of y variable.\n",
    "            partial_f_x_i = (f(x[0], x_plus_delta) - f(x[0], x_0)) / delta\n",
    "            final_gradient[i] = partial_f_x_i \n",
    "            \n",
    "    return final_gradient\n",
    "\n",
    "# Point (1, 1).\n",
    "vector_x_y = np.array([1, 1])\n",
    "# Find out the gradient at point (1, 1).\n",
    "gradient_result = gradient_f_C2(f_C2, vector_x_y)\n",
    "print(\"The gradient at the point (1, 1) is \" + str(gradient_result) + \".\")"
   ]
  },
  {
   "cell_type": "markdown",
   "metadata": {},
   "source": [
    "# Problem C.3\n",
    "Determine the values of all six partial derivatives to the function $f_{C:3}$ at the point $(v_1 = 1; v_2 = 2;w_1 = 1;w_2 = 2; b_1 = 3; b_2 = 4)$ when $x = 3$.\n",
    "<br>\n",
    "$f_{C:3}(v_1, v_2, w_1, w_2, b_1, b_2) = v_1 * (w_1 * x + b_1) + v_2 * (w_2 * x + b_2)$\n",
    "<br>\n",
    "NOTE: This function $f_{C:3}$ is not considered to be a function of the variable $x$. This is a\n",
    "relevant situation for example when $x$ is the input to a multilayer neural network and where\n",
    "$f_{C:3}$ denotes the network output as a function of the network parameters $v_1$, $v_2$, $w_1$, $w_2$, $b_1$, $b_2$.\n",
    "<br>\n",
    "You should use two approaches:"
   ]
  },
  {
   "cell_type": "markdown",
   "metadata": {},
   "source": [
    "## (a) \n",
    "Manual differentiation by means of the chain rule."
   ]
  },
  {
   "cell_type": "markdown",
   "metadata": {},
   "source": [
    "With paper and pencil, we work out that the gradient is $(6, 10, 3, 6, 1, 2)$, when $x = 3$."
   ]
  },
  {
   "cell_type": "markdown",
   "metadata": {},
   "source": [
    "## (b) \n",
    "Implementing the above difference approximation method in Python, and then applying it to this task."
   ]
  },
  {
   "cell_type": "code",
   "execution_count": 4,
   "metadata": {},
   "outputs": [
    {
     "name": "stdout",
     "output_type": "stream",
     "text": [
      "The gradient is [ 6. 10.  3.  6.  1.  2.], when x = 3.\n"
     ]
    }
   ],
   "source": [
    "# The original function.\n",
    "def f_C3(v1, v2, w1, w2, b1, b2, x):\n",
    "    f = v1 * (w1 * x + b1) + v2 * (w2 * x + b2)\n",
    "    return f\n",
    "\n",
    "def gradient_f_C3(f, x, delta = 10e-6):\n",
    "    # Determine the dimension of x vector.\n",
    "    # Here, it is 2-dimensional because there are two variables in the original function.\n",
    "    N_dim = x.shape[0] - 1\n",
    "    # Create the zero vector, which is used to store the final gradient vector.\n",
    "    final_gradient = np.zeros(N_dim)\n",
    "    \n",
    "    for i in range(N_dim):\n",
    "        # x_0 is the initial value in the ith dimension of the x vector.\n",
    "        x_0 = x[i]\n",
    "        x_plus_delta = x_0 + delta\n",
    "\n",
    "        if (i == 0):\n",
    "            partial_f_x_i = (f(x_plus_delta, x[1], x[2], x[3], x[4], x[5], x[6]) - f(x_0, x[1], x[2], x[3], x[4], x[5], x[6])) / delta\n",
    "            final_gradient[i] = partial_f_x_i\n",
    "            \n",
    "        elif (i == 1):\n",
    "            partial_f_x_i = (f(x[0], x_plus_delta, x[2], x[3], x[4], x[5], x[6]) - f(x[0], x_0, x[2], x[3], x[4], x[5], x[6])) / delta\n",
    "            final_gradient[i] = partial_f_x_i\n",
    "          \n",
    "        elif (i == 2):\n",
    "            partial_f_x_i = (f(x[0], x[1], x_plus_delta, x[3], x[4], x[5], x[6]) - f(x[0], x[1], x_0, x[3], x[4], x[5], x[6])) / delta\n",
    "            final_gradient[i] = partial_f_x_i\n",
    "           \n",
    "        elif (i == 3):\n",
    "            partial_f_x_i = (f(x[0], x[1], x[2], x_plus_delta, x[4], x[5], x[6]) - f(x[0], x[1], x[2], x_0, x[4], x[5], x[6])) / delta\n",
    "            final_gradient[i] = partial_f_x_i\n",
    "           \n",
    "        elif (i == 4):\n",
    "            partial_f_x_i = (f(x[0], x[1], x[2], x[3], x_plus_delta, x[5], x[6]) - f(x[0], x[1], x[2], x[3], x_0, x[5], x[6])) / delta\n",
    "            final_gradient[i] = partial_f_x_i\n",
    "            \n",
    "        else:\n",
    "            partial_f_x_i = (f(x[0], x[1], x[2], x[3], x[4], x_plus_delta, x[6]) - f(x[0], x[1], x[2], x[3], x[4], x_0, x[6])) / delta\n",
    "            final_gradient[i] = partial_f_x_i\n",
    "              \n",
    "    return final_gradient\n",
    "    \n",
    "vector_input = np.array([1, 2, 1, 2, 3, 4, 3])\n",
    "gradient_result = gradient_f_C3(f_C3, vector_input, delta=10e-6)\n",
    "print(\"The gradient is \" + str(gradient_result) + \", when x = 3.\")"
   ]
  },
  {
   "cell_type": "markdown",
   "metadata": {},
   "source": [
    "# Problem C.4\n",
    "First, let us define the function"
   ]
  },
  {
   "cell_type": "code",
   "execution_count": 5,
   "metadata": {},
   "outputs": [
    {
     "data": {
      "text/plain": [
       "[0.04514924452891922,\n",
       " 0.04525905385677209,\n",
       " 0.00033456165726697407,\n",
       " 1.2315084396696818e-05,\n",
       " 0.000111631789256883,\n",
       " 4.109133810992205e-06]"
      ]
     },
     "execution_count": 5,
     "metadata": {},
     "output_type": "execute_result"
    }
   ],
   "source": [
    "def phi(z):\n",
    "  phi = 1 / (1+np.exp(-z))\n",
    "  return phi\n",
    "\n",
    "def fc4(v1, v2, w1, w2, b1, b2):\n",
    "  fc4 = phi(v1 * phi(w1 * 3 + b1) + v2 * phi(w2 * 3 + b2))\n",
    "  return fc4\n",
    "\n",
    "def gradient(v1, v2, w1, w2, b1, b2,delta):\n",
    "  gradient=[]\n",
    "  \n",
    "  partial_v1 = (fc4(v1+delta, v2, w1, w2, b1, b2) - fc4(v1, v2, w1, w2, b1, b2)) / delta\n",
    "  gradient.append(partial_v1)\n",
    "\n",
    "  partial_v2 = (fc4(v1, v2+delta, w1, w2, b1, b2) - fc4(v1, v2, w1, w2, b1, b2)) / delta\n",
    "  gradient.append(partial_v2)\n",
    "\n",
    "  partial_w1 = (fc4(v1, v2, w1+delta, w2, b1, b2) - fc4(v1, v2, w1, w2, b1, b2)) / delta\n",
    "  gradient.append(partial_w1)\n",
    "\n",
    "  partial_w2 = (fc4(v1, v2, w1, w2+delta, b1, b2) - fc4(v1, v2, w1, w2, b1, b2)) / delta\n",
    "  gradient.append(partial_w2)\n",
    "\n",
    "  partial_b1 = (fc4(v1, v2, w1, w2, b1+delta, b2) - fc4(v1, v2, w1, w2, b1, b2)) / delta\n",
    "  gradient.append(partial_b1)\n",
    "\n",
    "  partial_b2 = (fc4(v1, v2, w1, w2, b1, b2+delta) - fc4(v1, v2, w1, w2, b1, b2)) / delta\n",
    "  gradient.append(partial_b2)\n",
    "\n",
    "  return gradient\n",
    "\n",
    "gradient(1,2, 1, 2, 3, 4,10**-3)"
   ]
  }
 ],
 "metadata": {
  "kernelspec": {
   "display_name": "Python 3",
   "language": "python",
   "name": "python3"
  },
  "language_info": {
   "codemirror_mode": {
    "name": "ipython",
    "version": 3
   },
   "file_extension": ".py",
   "mimetype": "text/x-python",
   "name": "python",
   "nbconvert_exporter": "python",
   "pygments_lexer": "ipython3",
   "version": "3.8.8"
  }
 },
 "nbformat": 4,
 "nbformat_minor": 4
}
