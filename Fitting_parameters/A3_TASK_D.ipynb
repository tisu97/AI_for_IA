{
  "nbformat": 4,
  "nbformat_minor": 0,
  "metadata": {
    "colab": {
      "name": "A3_TASK_D.ipynb",
      "provenance": [],
      "collapsed_sections": []
    },
    "kernelspec": {
      "name": "python3",
      "display_name": "Python 3"
    },
    "language_info": {
      "name": "python"
    }
  },
  "cells": [
    {
      "cell_type": "markdown",
      "metadata": {
        "id": "0k4utb6S-kdo"
      },
      "source": [
        "# Exercise 1: A Linear Regression Problem - The SteelAI Case"
      ]
    },
    {
      "cell_type": "code",
      "metadata": {
        "id": "i0VYp918-F68"
      },
      "source": [
        "import torch\n",
        "from torch import autograd\n",
        "import numpy as np\n",
        "import matplotlib.pyplot as plt\n",
        "\n",
        "# DATA: Import data and convert the data into relevant torch tensors.\n",
        "path = \"dataset_SteelAI.csv\"\n",
        "with open(path, encoding = \"utf-8\") as f:\n",
        "    my_data = np.loadtxt(path, dtype = \"str\", delimiter = \",\")\n",
        "\n",
        "# Delete titles of each column.\n",
        "data = my_data[1:, ]\n",
        "\n",
        "# Get the x column.\n",
        "X = data[:,0]\n",
        "X = np.array(X, dtype = \"float\")\n",
        "# THESE SHOULD HAVE requires_grad = FALSE\n",
        "X = torch.tensor(X, requires_grad = False)\n",
        "\n",
        "# Get the y column.\n",
        "y_true = data[:, 1]\n",
        "y_true = np.array(y_true, dtype = \"float\")\n",
        "# THESE SHOULD HAVE requires_grad = FALSE\n",
        "y_true = torch.tensor(y_true, requires_grad = False)"
      ],
      "execution_count": 1,
      "outputs": []
    },
    {
      "cell_type": "code",
      "metadata": {
        "colab": {
          "base_uri": "https://localhost:8080/",
          "height": 299
        },
        "id": "OnFBMkMtzPk4",
        "outputId": "8f372bfc-b03d-47c2-cea7-d67017395025"
      },
      "source": [
        "plt.scatter(X, y_true)\n",
        "plt.xlabel(\"precentage chemical x\")\n",
        "plt.ylabel(\"flexibility coefficent\")"
      ],
      "execution_count": 2,
      "outputs": [
        {
          "output_type": "execute_result",
          "data": {
            "text/plain": [
              "Text(0, 0.5, 'flexibility coefficent')"
            ]
          },
          "metadata": {},
          "execution_count": 2
        },
        {
          "output_type": "display_data",
          "data": {
            "image/png": "[encoded data removed]",
            "text/plain": [
              "<Figure size 432x288 with 1 Axes>"
            ]
          },
          "metadata": {
            "needs_background": "light"
          }
        }
      ]
    },
    {
      "cell_type": "code",
      "metadata": {
        "colab": {
          "base_uri": "https://localhost:8080/"
        },
        "id": "gI98h0mFy7tW",
        "outputId": "6941342b-a19e-4f61-a95d-0d2a7a0512ba"
      },
      "source": [
        "import torch\n",
        "from torch import autograd\n",
        "import numpy as np\n",
        "\n",
        "# MODEL:\n",
        "def model(X, a, b):\n",
        "    fx_output = a * X + b\n",
        "    return fx_output\n",
        "\n",
        "# LOSS FUNCTION:\n",
        "def loss_function(y_preds, y_true):\n",
        "    return torch.pow(y_true - y_preds, 2.0)\n",
        "\n",
        "# COST FUNCTION:\n",
        "def cost_function(y_preds, y_true):\n",
        "    loss_over_data = loss_function(y_preds, y_true)\n",
        "    return torch.mean(loss_over_data)\n",
        "\n",
        "# INITIALIZATION:\n",
        "# inital guess of params\n",
        "a = torch.tensor([1.0], requires_grad = True)\n",
        "# inital guess of params\n",
        "b = torch.tensor([0.5], requires_grad = True) \n",
        "\n",
        "# Set the maximum iteration times\n",
        "max_iterations = 5000\n",
        "\n",
        "# Set the step length, eta\n",
        "eta = 0.01\n",
        "\n",
        "# Trajectory of cost in each iteration\n",
        "trajectory_cost = []\n",
        "\n",
        "# Fitting- / Learning- / Training-loop\n",
        "for iteration_i in range(max_iterations):\n",
        "    # Predict from current model with current params\n",
        "    y_preds = model(X, a, b)\n",
        "\n",
        "    # Compute loss associated with current params\n",
        "    cost = cost_function(y_preds, y_true) # How to use loss function?? I could only use the cost function.\n",
        "    trajectory_cost.append(cost.detach().numpy())\n",
        "\n",
        "    # Compute gradient of loss function for current params\n",
        "    cost.backward()\n",
        "\n",
        "    # Update params via Gradient Decent update\n",
        "    with torch.no_grad():\n",
        "        a -= eta * a.grad\n",
        "        b -= eta * b.grad\n",
        "    \n",
        "    # Reset gradients back to zero\n",
        "    a.grad.zero_()\n",
        "    b.grad.zero_()\n",
        "    \n",
        "    # some stopping criteria fullfiled\n",
        "    # Compare the difference betweeen two successive cost value\n",
        "    if iteration_i > 2000:\n",
        "        if np.abs(trajectory_cost[-1] - trajectory_cost[-2]) < 10e-9:\n",
        "            break\n",
        "\n",
        "print(a.item())\n",
        "print(b.item())"
      ],
      "execution_count": 3,
      "outputs": [
        {
          "output_type": "stream",
          "name": "stdout",
          "text": [
            "0.8608052134513855\n",
            "0.09108268469572067\n"
          ]
        }
      ]
    },
    {
      "cell_type": "code",
      "metadata": {
        "colab": {
          "base_uri": "https://localhost:8080/",
          "height": 312
        },
        "id": "zhfBR8rr26dX",
        "outputId": "8b5df82a-9cab-43a8-dfab-cc403e5d2a27"
      },
      "source": [
        "plt.scatter(X, y_true)\n",
        "plt.xlabel(\"precentage chemical x\")\n",
        "plt.ylabel(\"flexibility coefficent\")\n",
        "X = np.linspace(0, 0.3, 500)\n",
        "y_preds = a.item() * X + b.item()\n",
        "plt.plot(X, y_preds)\n",
        "plt.title(\"Parameters: a = {}, b = {}\".format(a.item(), b.item()))"
      ],
      "execution_count": 4,
      "outputs": [
        {
          "output_type": "execute_result",
          "data": {
            "text/plain": [
              "Text(0.5, 1.0, 'Parameters: a = 0.8608052134513855, b = 0.09108268469572067')"
            ]
          },
          "metadata": {},
          "execution_count": 4
        },
        {
          "output_type": "display_data",
          "data": {
            "image/png": "[encoded data removed]",
            "text/plain": [
              "<Figure size 432x288 with 1 Axes>"
            ]
          },
          "metadata": {
            "needs_background": "light"
          }
        }
      ]
    },
    {
      "cell_type": "markdown",
      "metadata": {
        "id": "roR_pG7s3jIv"
      },
      "source": [
        "# Exercise 2: Fitting parameters to a non-linear relationship"
      ]
    },
    {
      "cell_type": "code",
      "metadata": {
        "id": "DiNFBYZy3myO"
      },
      "source": [
        "import torch\n",
        "from torch import autograd\n",
        "import numpy as np\n",
        "import matplotlib.pyplot as plt\n",
        "\n",
        "# DATA: Import data and convert the data into relevant torch tensors.\n",
        "path = \"dataset_Marvin_Minsky.csv\"\n",
        "with open(path, encoding = \"utf-8\") as f:\n",
        "    my_data = np.loadtxt(path, dtype = \"str\", delimiter = \",\")\n",
        "\n",
        "# Delete titles of each column.\n",
        "data = my_data[1:, ]\n",
        "\n",
        "# Get the x column.\n",
        "X = data[:,0]\n",
        "X = np.array(X, dtype = \"float\")\n",
        "# THESE SHOULD HAVE requires_grad = FALSE\n",
        "X = torch.tensor(X, requires_grad = False)\n",
        "\n",
        "# Get the y column.\n",
        "y_true = data[:, 1]\n",
        "y_true = np.array(y_true, dtype = \"float\")\n",
        "# THESE SHOULD HAVE requires_grad = FALSE\n",
        "y_true = torch.tensor(y_true, requires_grad = False)"
      ],
      "execution_count": 5,
      "outputs": []
    },
    {
      "cell_type": "code",
      "metadata": {
        "colab": {
          "base_uri": "https://localhost:8080/",
          "height": 279
        },
        "id": "iyi3gVzG39Tg",
        "outputId": "585c1c63-86f4-4339-ba00-c82274a05cc1"
      },
      "source": [
        "plt.scatter(X, y_true)\n",
        "plt.xlabel(\"x\")\n",
        "plt.ylabel(\"y\")\n",
        "plt.grid()"
      ],
      "execution_count": 6,
      "outputs": [
        {
          "output_type": "display_data",
          "data": {
            "image/png": "[encoded data removed]",
            "text/plain": [
              "<Figure size 432x288 with 1 Axes>"
            ]
          },
          "metadata": {
            "needs_background": "light"
          }
        }
      ]
    },
    {
      "cell_type": "markdown",
      "metadata": {
        "id": "PvNTqyKZ4zFl"
      },
      "source": [
        "## Which two model family types among the ones consideed in this assignment do you think are most promising to explain the underlying relationhsip between the observed pairs ($xn$, $yn$) shown? Why?\n"
      ]
    },
    {
      "cell_type": "markdown",
      "metadata": {
        "id": "UYo92ZP868-D"
      },
      "source": [
        "**Answer:** Michaelis-Menten type model and Arrhenius type model."
      ]
    },
    {
      "cell_type": "markdown",
      "metadata": {
        "id": "9QfVBHL05GYt"
      },
      "source": [
        "### Michaelis-Menten type model"
      ]
    },
    {
      "cell_type": "code",
      "metadata": {
        "id": "GcCxIRy_4Ji1",
        "colab": {
          "base_uri": "https://localhost:8080/"
        },
        "outputId": "ee6acd4d-e8f0-4095-e9bc-4ab16a38df2f"
      },
      "source": [
        "import torch\n",
        "from torch import autograd\n",
        "\n",
        "# Michaelis-Menten type model f(x; a, b)\n",
        "def mm_model(X, a, b):\n",
        "  fx = a * X / (b + X)\n",
        "  return fx\n",
        "\n",
        "def loss_function(y_pred, y_true):\n",
        "  return torch.pow(y_true - y_pred, 2.0)\n",
        "\n",
        "def cost_function(y_pred, y_true):\n",
        "  loss = loss_function(y_pred, y_true)\n",
        "  return torch.mean(loss)\n",
        "\n",
        "### INITIALIZATION ###\n",
        "# inital guess of params\n",
        "a = torch.tensor([1.0], requires_grad = True)\n",
        "# inital guess of params\n",
        "b = torch.tensor([0.5], requires_grad = True) \n",
        "\n",
        "# Set the maximum iteration times\n",
        "max_iterations = 100000\n",
        "\n",
        "# Set the step length, eta\n",
        "eta = 0.1\n",
        "\n",
        "# Trajectory of cost\n",
        "trajectory_cost = []\n",
        "\n",
        "# Trajectory of iteration round\n",
        "trajectory_iter = []\n",
        "\n",
        "# Fitting- / Learning- / Training-loop\n",
        "for iteration_i in range(max_iterations):\n",
        "    # Predict from current model with current params\n",
        "    y_preds = mm_model(X, a, b) # Use Michaelis-Menten type model\n",
        "\n",
        "    # Compute loss associated with current params\n",
        "    cost = cost_function(y_preds, y_true)\n",
        "    trajectory_cost.append(cost.detach().numpy())\n",
        "\n",
        "    trajectory_iter.append(iteration_i)\n",
        "\n",
        "    # Compute gradient of loss function for current params\n",
        "    cost.backward()\n",
        "\n",
        "    # Update params via Gradient Decent update\n",
        "    with torch.no_grad():\n",
        "        a -= eta * a.grad\n",
        "        b -= eta * b.grad\n",
        "    \n",
        "    # Reset gradients back to zero\n",
        "    a.grad.zero_()\n",
        "    b.grad.zero_()\n",
        "    \n",
        "    # some stopping criteria fullfiled\n",
        "    # Compare the difference betweeen two successive cost value\n",
        "    if iteration_i > 2000:\n",
        "        if np.abs(trajectory_cost[-1] - trajectory_cost[-2]) < 10e-9:\n",
        "            break\n",
        "\n",
        "print(a.item())\n",
        "print(b.item())"
      ],
      "execution_count": 7,
      "outputs": [
        {
          "output_type": "stream",
          "name": "stdout",
          "text": [
            "2.7629313468933105\n",
            "11.09881591796875\n"
          ]
        }
      ]
    },
    {
      "cell_type": "code",
      "metadata": {
        "colab": {
          "base_uri": "https://localhost:8080/",
          "height": 296
        },
        "id": "Wqopj6ymx5uk",
        "outputId": "d0da16d4-7f77-4832-af26-d5097647d6a3"
      },
      "source": [
        "plt.scatter(trajectory_iter, trajectory_cost)\n",
        "plt.ylabel(\"trajectory of cost\")\n",
        "plt.xlabel(\"iteration rounds\")"
      ],
      "execution_count": 8,
      "outputs": [
        {
          "output_type": "execute_result",
          "data": {
            "text/plain": [
              "Text(0.5, 0, 'iteration rounds')"
            ]
          },
          "metadata": {},
          "execution_count": 8
        },
        {
          "output_type": "display_data",
          "data": {
            "image/png": "[encoded data removed]",
            "text/plain": [
              "<Figure size 432x288 with 1 Axes>"
            ]
          },
          "metadata": {
            "needs_background": "light"
          }
        }
      ]
    },
    {
      "cell_type": "code",
      "metadata": {
        "colab": {
          "base_uri": "https://localhost:8080/"
        },
        "id": "eIXux1nWHyS4",
        "outputId": "3a9bad65-e5f1-483e-b3f7-e554c688696f"
      },
      "source": [
        "print(trajectory_cost[-1])"
      ],
      "execution_count": 9,
      "outputs": [
        {
          "output_type": "stream",
          "name": "stdout",
          "text": [
            "0.04042788028508393\n"
          ]
        }
      ]
    },
    {
      "cell_type": "code",
      "metadata": {
        "colab": {
          "base_uri": "https://localhost:8080/",
          "height": 295
        },
        "id": "iZBpHDg0sZwx",
        "outputId": "6bb6a8b3-f534-46de-9ee5-ba945afa8c1e"
      },
      "source": [
        "plt.scatter(X, y_true)\n",
        "plt.xlabel(\"precentage chemical x\")\n",
        "plt.ylabel(\"flexibility coefficent\")\n",
        "x = np.linspace(0, 100, 1000)\n",
        "y_preds = mm_model(x, a.item(), b.item())\n",
        "plt.plot(x, y_preds)\n",
        "plt.title(\"Parameters: a = {}, b = {}\".format(a.item(), b.item()))\n",
        "plt.grid()"
      ],
      "execution_count": 10,
      "outputs": [
        {
          "output_type": "display_data",
          "data": {
            "image/png": "[encoded data removed]",
            "text/plain": [
              "<Figure size 432x288 with 1 Axes>"
            ]
          },
          "metadata": {
            "needs_background": "light"
          }
        }
      ]
    },
    {
      "cell_type": "markdown",
      "metadata": {
        "id": "B1MpO51c7DqF"
      },
      "source": [
        "### Arrhenius type model:"
      ]
    },
    {
      "cell_type": "code",
      "metadata": {
        "colab": {
          "base_uri": "https://localhost:8080/"
        },
        "id": "9gh5C4IpsUVK",
        "outputId": "b0abdce4-5efa-490f-ceef-4656c926e4dc"
      },
      "source": [
        "import torch\n",
        "from torch import autograd\n",
        "\n",
        "# Arrhenius type model f(x; a, b)\n",
        "def a_model(X, a, b):\n",
        "  fx = a * torch.exp(-b/X)\n",
        "  return fx\n",
        "\n",
        "def loss_function(y_pred, y_true):\n",
        "  return torch.pow(y_true - y_pred, 2.0)\n",
        "\n",
        "def cost_function(y_pred, y_true):\n",
        "  loss = loss_function(y_pred, y_true)\n",
        "  return torch.mean(loss)\n",
        "\n",
        "# INITIALIZATION:\n",
        "# inital guess of params\n",
        "a = torch.tensor([1.0], requires_grad = True)\n",
        "# inital guess of params\n",
        "b = torch.tensor([0.5], requires_grad = True)\n",
        "\n",
        "X = torch.tensor(X, requires_grad = False)\n",
        "\n",
        "# Trajectory of cost\n",
        "trajectory_cost = []\n",
        "\n",
        "# Trajectory of iteration round\n",
        "trajectory_iter = []\n",
        "\n",
        "# Set the maximum iteration times\n",
        "max_iterations = 50000 * 2\n",
        "\n",
        "# Set the step length, eta\n",
        "eta = 0.1\n",
        "\n",
        "# Fitting- / Learning- / Training-loop\n",
        "for iteration_i in range(max_iterations):\n",
        "    # Predict from current model with current params\n",
        "    y_preds = a_model(X, a, b) # Use Bell-curve type model\n",
        "\n",
        "    # Compute loss associated with current params\n",
        "    cost = cost_function(y_preds, y_true)\n",
        "\n",
        "    trajectory_cost.append(cost.detach().numpy())\n",
        "\n",
        "    trajectory_iter.append(iteration_i)\n",
        "\n",
        "    # Compute gradient of loss function for current params\n",
        "    cost.backward()\n",
        "\n",
        "    # Update params via Gradient Decent update\n",
        "    with torch.no_grad():\n",
        "        a -= eta * a.grad\n",
        "        b -= eta * b.grad\n",
        "    \n",
        "    # Reset gradients back to zero\n",
        "    a.grad.zero_()\n",
        "    b.grad.zero_()\n",
        "    \n",
        "    # # some stopping criteria fullfiled\n",
        "    if iteration_i > 2000:\n",
        "        if np.abs(trajectory_cost[-1] - trajectory_cost[-2]) < 10e-9:\n",
        "            break\n",
        "\n",
        "print(iteration_i)\n",
        "print(a.item())\n",
        "print(b.item())"
      ],
      "execution_count": 11,
      "outputs": [
        {
          "output_type": "stream",
          "name": "stderr",
          "text": [
            "/usr/local/lib/python3.7/dist-packages/ipykernel_launcher.py:22: UserWarning: To copy construct from a tensor, it is recommended to use sourceTensor.clone().detach() or sourceTensor.clone().detach().requires_grad_(True), rather than torch.tensor(sourceTensor).\n"
          ]
        },
        {
          "output_type": "stream",
          "name": "stdout",
          "text": [
            "9696\n",
            "2.606421709060669\n",
            "6.832805633544922\n"
          ]
        }
      ]
    },
    {
      "cell_type": "code",
      "metadata": {
        "colab": {
          "base_uri": "https://localhost:8080/",
          "height": 312
        },
        "id": "_pE3ynXXts1p",
        "outputId": "dd8e5370-9280-4eef-8ecd-a9c8a991bd53"
      },
      "source": [
        "plt.scatter(X, y_true)\n",
        "plt.xlabel(\"x\")\n",
        "plt.ylabel(\"y\")\n",
        "x = np.linspace(0, 100, 1000)\n",
        "x = torch.tensor(x, requires_grad = False)\n",
        "y_preds = a_model(x, a.item(), b.item())\n",
        "plt.plot(x, y_preds)\n",
        "plt.title(\"Parameters: a = {}, b = {}\".format(a.item(), b.item()))"
      ],
      "execution_count": 12,
      "outputs": [
        {
          "output_type": "execute_result",
          "data": {
            "text/plain": [
              "Text(0.5, 1.0, 'Parameters: a = 2.606421709060669, b = 6.832805633544922')"
            ]
          },
          "metadata": {},
          "execution_count": 12
        },
        {
          "output_type": "display_data",
          "data": {
            "image/png": "[encoded data removed]",
            "text/plain": [
              "<Figure size 432x288 with 1 Axes>"
            ]
          },
          "metadata": {
            "needs_background": "light"
          }
        }
      ]
    },
    {
      "cell_type": "code",
      "metadata": {
        "colab": {
          "base_uri": "https://localhost:8080/"
        },
        "id": "Hiz_oWbSHhZn",
        "outputId": "17def0a1-743f-4f19-952d-e0cbe8b6ef08"
      },
      "source": [
        "print(trajectory_cost[-1])"
      ],
      "execution_count": 13,
      "outputs": [
        {
          "output_type": "stream",
          "name": "stdout",
          "text": [
            "0.04330844574037747\n"
          ]
        }
      ]
    },
    {
      "cell_type": "code",
      "metadata": {
        "colab": {
          "base_uri": "https://localhost:8080/",
          "height": 296
        },
        "id": "-m6e7PbT7YQu",
        "outputId": "f37404fa-2d1a-4ad1-f243-39d6b2cacf32"
      },
      "source": [
        "plt.scatter(trajectory_iter, trajectory_cost)\n",
        "plt.ylabel(\"trajectory of cost\")\n",
        "plt.xlabel(\"iteration rounds\")"
      ],
      "execution_count": 14,
      "outputs": [
        {
          "output_type": "execute_result",
          "data": {
            "text/plain": [
              "Text(0.5, 0, 'iteration rounds')"
            ]
          },
          "metadata": {},
          "execution_count": 14
        },
        {
          "output_type": "display_data",
          "data": {
            "image/png": "[encoded data removed]",
            "text/plain": [
              "<Figure size 432x288 with 1 Axes>"
            ]
          },
          "metadata": {
            "needs_background": "light"
          }
        }
      ]
    }
  ]
}