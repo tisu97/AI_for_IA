{
  "nbformat": 4,
  "nbformat_minor": 0,
  "metadata": {
    "colab": {
      "name": "A5_TASK_D.ipynb",
      "provenance": [],
      "collapsed_sections": []
    },
    "kernelspec": {
      "name": "python3",
      "display_name": "Python 3"
    },
    "language_info": {
      "name": "python"
    }
  },
  "cells": [
    {
      "cell_type": "code",
      "metadata": {
        "colab": {
          "base_uri": "https://localhost:8080/"
        },
        "id": "weeyyldZg_zs",
        "outputId": "8023e5b0-bc0a-497a-9a7b-ded69ce6c02b"
      },
      "source": [
        "import torch\n",
        "from torch import nn\n",
        "from torch.utils.data import DataLoader\n",
        "from torchvision import datasets\n",
        "\n",
        "from torchvision.transforms import ToTensor, Lambda, Compose\n",
        "import matplotlib.pyplot as plt\n",
        "\n",
        "# Download training data from open datasets.\n",
        "training_data = datasets.FashionMNIST(\n",
        "    root=\"data\",\n",
        "    train=True,\n",
        "    download=True,\n",
        "    transform=ToTensor(),\n",
        ")\n",
        "\n",
        "# Download test data from open datasets.\n",
        "test_data = datasets.FashionMNIST(\n",
        "    root=\"data\",\n",
        "    train=False,\n",
        "    download=True,\n",
        "    transform=ToTensor(),\n",
        ")"
      ],
      "execution_count": null,
      "outputs": [
        {
          "output_type": "stream",
          "name": "stderr",
          "text": [
            "/usr/local/lib/python3.7/dist-packages/torchvision/datasets/mnist.py:498: UserWarning: The given NumPy array is not writeable, and PyTorch does not support non-writeable tensors. This means you can write to the underlying (supposedly non-writeable) NumPy array using the tensor. You may want to copy the array to protect its data or make it writeable before converting it to a tensor. This type of warning will be suppressed for the rest of this program. (Triggered internally at  /pytorch/torch/csrc/utils/tensor_numpy.cpp:180.)\n",
            "  return torch.from_numpy(parsed.astype(m[2], copy=False)).view(*s)\n"
          ]
        }
      ]
    },
    {
      "cell_type": "code",
      "metadata": {
        "id": "joXnw2rthZgu",
        "colab": {
          "base_uri": "https://localhost:8080/"
        },
        "outputId": "4dc33bbe-8013-460b-fa2d-f35d51adfa34"
      },
      "source": [
        "len(training_data)"
      ],
      "execution_count": null,
      "outputs": [
        {
          "output_type": "execute_result",
          "data": {
            "text/plain": [
              "60000"
            ]
          },
          "metadata": {},
          "execution_count": 2
        }
      ]
    },
    {
      "cell_type": "code",
      "metadata": {
        "id": "-dDIqdtmiwod"
      },
      "source": [
        "# Print size of whole training dataset\n",
        "size_of_training_data = len(training_data)\n",
        "\n",
        "# SPLITTING DATA INTO 'TRAIN-' AND 'VAL-' sets.\n",
        "\n",
        "# Init your PyTorch Dataset object\n",
        "original_data = training_data\n",
        "size_of_original_data = len(training_data)\n",
        "\n",
        "# Specify split fractions: !Must sum to 1!\n",
        "train_fraction = 0.70\n",
        "val_fraction = 0.30\n",
        "\n",
        "\n",
        "# Determine size of each set\n",
        "train_dataset_size = int(train_fraction * size_of_original_data)\n",
        "val_dataset_size = int(val_fraction * size_of_original_data)\n",
        "\n",
        "# Split whole original data into train, val and test datsets\n",
        "train_dataset, val_dataset = torch.utils.data.random_split(\n",
        "    original_data,\n",
        "    [train_dataset_size, val_dataset_size])"
      ],
      "execution_count": null,
      "outputs": []
    },
    {
      "cell_type": "code",
      "metadata": {
        "colab": {
          "base_uri": "https://localhost:8080/"
        },
        "id": "gk9C6L30luol",
        "outputId": "9506fa54-ff03-447d-bb7d-15a0b2523866"
      },
      "source": [
        "# Sanity checking\n",
        "print(f\" Train set Size: {len(train_dataset)}\")\n",
        "print(f\" Val set Size: {len(val_dataset)}\")"
      ],
      "execution_count": null,
      "outputs": [
        {
          "output_type": "stream",
          "name": "stdout",
          "text": [
            " Train set Size: 42000\n",
            " Val set Size: 18000\n"
          ]
        }
      ]
    },
    {
      "cell_type": "code",
      "metadata": {
        "id": "Weiv8qv1rDp8"
      },
      "source": [
        "from sklearn.metrics import accuracy_score\n",
        "\n",
        "def evaluate_model_performance(dataset, model):\n",
        "# Function that takes in a model and a dataset\n",
        "# and outputs an performance estimate of the classification\n",
        "# accuracy of the model.\n",
        "\n",
        "# Make a Dataloader for the dataset.\n",
        "# Note, we are not performing any SGD here, so our batch\n",
        "# size is the whole # dataset we want to evaluate model performance on.\n",
        "    d_loader = DataLoader(dataset = dataset, batch_size = len(dataset))\n",
        "\n",
        "    cost_function = nn.CrossEntropyLoss() # For classification evaluation\n",
        "    model.eval()\n",
        "    # Make predictions for the eval dataset\n",
        "    with torch.no_grad():\n",
        "        for X, y in d_loader:\n",
        "            raw_y_preds = model(X)\n",
        "\n",
        "        y_class_preds = raw_y_preds.argmax(dim = 1)\n",
        "        eval_cost = cost_function(raw_y_preds, y).item()\n",
        "    model.train()\n",
        "\n",
        "    # compare predictions with true labels and compute performance metric\n",
        "    # performance metric in this example is classification accuracy\n",
        "    eval_acc = accuracy_score(y_pred = y_class_preds, y_true = y)\n",
        "\n",
        "    return eval_cost, eval_acc"
      ],
      "execution_count": null,
      "outputs": []
    },
    {
      "cell_type": "code",
      "metadata": {
        "colab": {
          "base_uri": "https://localhost:8080/"
        },
        "id": "oHCXyB_Zl0pc",
        "outputId": "5a4fc1e1-64b1-44f8-8b31-2085fec4a3f8"
      },
      "source": [
        "# Making a PyTorch DataLoader Object.\n",
        "train_dataloader = DataLoader(dataset = train_dataset, batch_size = 100, shuffle = True)\n",
        "\n",
        "# Define a first preliminary ANN architecture\n",
        "model = nn.Sequential(\n",
        "    nn.Flatten(),\n",
        "    nn.Linear(in_features = 784, out_features = 400),\n",
        "    nn.ReLU(),\n",
        "    nn.Linear(in_features = 400, out_features = 100), \n",
        "    nn.ReLU(),\n",
        "    nn.Linear(in_features = 100, out_features = 10) \n",
        ")\n",
        "\n",
        "# Cost function\n",
        "cost_function = nn.CrossEntropyLoss()\n",
        "\n",
        "# Choose optimizer\n",
        "optim = torch.optim.SGD(model.parameters(), lr = 0.05)\n",
        "\n",
        "# Trace the cost in mini-batch\n",
        "training_minibatch_Js =[]\n",
        "\n",
        "# Traceback the cross entropy cost in the train set and the validation set\n",
        "cross_entropy_cost_train = []\n",
        "cross_entropy_cost_val = []\n",
        "\n",
        "# Traceback the accuracy in the train set and the validation set\n",
        "accuracy_train = []\n",
        "accuracy_val = []\n",
        "\n",
        "nr_epochs = 50\n",
        "for epoch_i in range(nr_epochs):\n",
        "    eval_every_kth = 1\n",
        "    if epoch_i % eval_every_kth == 0: # Eval model very k'th epoch.\n",
        "        model.eval() # set model into evaluate mode #\n",
        "        # EVALUATE Model 'performance' on whole train and validation dataset\n",
        "        train_cost, train_acc = evaluate_model_performance(model = model, dataset = train_dataset)\n",
        "        val_cost, val_acc = evaluate_model_performance(model = model, dataset = val_dataset)\n",
        "        model.train() # reset model into train mode.\n",
        "\n",
        "        # track performance measures from both train and val sets\n",
        "        print(\"Epoch: {} - Train cost: {}, Train Acc: {}\".format(epoch_i, train_cost, train_acc))\n",
        "        print(\"Epoch: {} - Val cost: {}, Val Acc: {}\".format(epoch_i, val_cost, val_acc))\n",
        "\n",
        "        cross_entropy_cost_train.append(train_cost)\n",
        "        cross_entropy_cost_val.append(val_cost)\n",
        "\n",
        "        accuracy_train.append(train_acc)\n",
        "        accuracy_val.append(val_acc)\n",
        "\n",
        "        # Optional stopping criteria based on validation and/or\n",
        "        # train set performance/cost to avoid overfitting.\n",
        "\n",
        "    for X_batch, y_batch in train_dataloader:\n",
        "        y_preds = model(X_batch) # Make predection on batch\n",
        "        cost = cost_function(y_preds, y_batch) # Compute cost\n",
        "        training_minibatch_Js.append(cost)\n",
        "        optim.zero_grad() # zero the grads of all model params\n",
        "        cost.backward() # compute J gradient of all model params\n",
        "        optim.step() # take one update step for all model params"
      ],
      "execution_count": null,
      "outputs": [
        {
          "output_type": "stream",
          "name": "stdout",
          "text": [
            "Epoch: 0 - Train cost: 2.303220748901367, Train Acc: 0.1372857142857143\n",
            "Epoch: 0 - Val cost: 2.3037989139556885, Val Acc: 0.1373888888888889\n",
            "Epoch: 1 - Train cost: 0.6312745809555054, Train Acc: 0.7847380952380952\n",
            "Epoch: 1 - Val cost: 0.6270968914031982, Val Acc: 0.7893333333333333\n",
            "Epoch: 2 - Train cost: 0.524557888507843, Train Acc: 0.8151428571428572\n",
            "Epoch: 2 - Val cost: 0.5266422629356384, Val Acc: 0.8153888888888889\n",
            "Epoch: 3 - Train cost: 0.4675229787826538, Train Acc: 0.8325714285714285\n",
            "Epoch: 3 - Val cost: 0.47589030861854553, Val Acc: 0.8296666666666667\n",
            "Epoch: 4 - Train cost: 0.44290658831596375, Train Acc: 0.8442142857142857\n",
            "Epoch: 4 - Val cost: 0.44857025146484375, Val Acc: 0.8413888888888889\n",
            "Epoch: 5 - Train cost: 0.40899643301963806, Train Acc: 0.855547619047619\n",
            "Epoch: 5 - Val cost: 0.4241480529308319, Val Acc: 0.8498333333333333\n",
            "Epoch: 6 - Train cost: 0.40289992094039917, Train Acc: 0.8565714285714285\n",
            "Epoch: 6 - Val cost: 0.4168735444545746, Val Acc: 0.8508888888888889\n",
            "Epoch: 7 - Train cost: 0.3845214545726776, Train Acc: 0.8634285714285714\n",
            "Epoch: 7 - Val cost: 0.4049973487854004, Val Acc: 0.8537777777777777\n",
            "Epoch: 8 - Train cost: 0.36000165343284607, Train Acc: 0.8722380952380953\n",
            "Epoch: 8 - Val cost: 0.38373899459838867, Val Acc: 0.8621111111111112\n",
            "Epoch: 9 - Train cost: 0.3528217375278473, Train Acc: 0.8732619047619048\n",
            "Epoch: 9 - Val cost: 0.3785116672515869, Val Acc: 0.8633888888888889\n",
            "Epoch: 10 - Train cost: 0.33943402767181396, Train Acc: 0.8800714285714286\n",
            "Epoch: 10 - Val cost: 0.3638559579849243, Val Acc: 0.871\n",
            "Epoch: 11 - Train cost: 0.32987523078918457, Train Acc: 0.8824047619047619\n",
            "Epoch: 11 - Val cost: 0.36148393154144287, Val Acc: 0.8715555555555555\n",
            "Epoch: 12 - Train cost: 0.32942304015159607, Train Acc: 0.8810714285714286\n",
            "Epoch: 12 - Val cost: 0.3630993664264679, Val Acc: 0.8707222222222222\n",
            "Epoch: 13 - Train cost: 0.30634957551956177, Train Acc: 0.8906904761904761\n",
            "Epoch: 13 - Val cost: 0.3411637246608734, Val Acc: 0.8786666666666667\n",
            "Epoch: 14 - Train cost: 0.313329815864563, Train Acc: 0.8858333333333334\n",
            "Epoch: 14 - Val cost: 0.355412095785141, Val Acc: 0.872\n",
            "Epoch: 15 - Train cost: 0.29535192251205444, Train Acc: 0.8936904761904761\n",
            "Epoch: 15 - Val cost: 0.3366183936595917, Val Acc: 0.8791111111111111\n",
            "Epoch: 16 - Train cost: 0.2847704589366913, Train Acc: 0.8974285714285715\n",
            "Epoch: 16 - Val cost: 0.33227118849754333, Val Acc: 0.8810555555555556\n",
            "Epoch: 17 - Train cost: 0.2968341112136841, Train Acc: 0.8917380952380952\n",
            "Epoch: 17 - Val cost: 0.3454194664955139, Val Acc: 0.8735\n",
            "Epoch: 18 - Train cost: 0.2739246189594269, Train Acc: 0.9004761904761904\n",
            "Epoch: 18 - Val cost: 0.32380709052085876, Val Acc: 0.8816111111111111\n",
            "Epoch: 19 - Train cost: 0.2695792317390442, Train Acc: 0.9022142857142857\n",
            "Epoch: 19 - Val cost: 0.32758307456970215, Val Acc: 0.8821111111111111\n",
            "Epoch: 20 - Train cost: 0.26704999804496765, Train Acc: 0.9023333333333333\n",
            "Epoch: 20 - Val cost: 0.32805272936820984, Val Acc: 0.88\n",
            "Epoch: 21 - Train cost: 0.2562481164932251, Train Acc: 0.905952380952381\n",
            "Epoch: 21 - Val cost: 0.3182719945907593, Val Acc: 0.8856666666666667\n",
            "Epoch: 22 - Train cost: 0.2724105417728424, Train Acc: 0.8998095238095238\n",
            "Epoch: 22 - Val cost: 0.33903712034225464, Val Acc: 0.8780555555555556\n",
            "Epoch: 23 - Train cost: 0.2792614698410034, Train Acc: 0.8966904761904761\n",
            "Epoch: 23 - Val cost: 0.34777459502220154, Val Acc: 0.8738333333333334\n",
            "Epoch: 24 - Train cost: 0.23768045008182526, Train Acc: 0.9132380952380953\n",
            "Epoch: 24 - Val cost: 0.31063827872276306, Val Acc: 0.8881666666666667\n",
            "Epoch: 25 - Train cost: 0.22959285974502563, Train Acc: 0.9177380952380952\n",
            "Epoch: 25 - Val cost: 0.30809035897254944, Val Acc: 0.8874444444444445\n",
            "Epoch: 26 - Train cost: 0.2296527624130249, Train Acc: 0.9171666666666667\n",
            "Epoch: 26 - Val cost: 0.3102148175239563, Val Acc: 0.8870555555555556\n",
            "Epoch: 27 - Train cost: 0.23478183150291443, Train Acc: 0.9134285714285715\n",
            "Epoch: 27 - Val cost: 0.3170278072357178, Val Acc: 0.8846111111111111\n",
            "Epoch: 28 - Train cost: 0.21945221722126007, Train Acc: 0.9197142857142857\n",
            "Epoch: 28 - Val cost: 0.3074609935283661, Val Acc: 0.8890555555555556\n",
            "Epoch: 29 - Train cost: 0.22685416042804718, Train Acc: 0.916547619047619\n",
            "Epoch: 29 - Val cost: 0.32204505801200867, Val Acc: 0.8845555555555555\n",
            "Epoch: 30 - Train cost: 0.2171173244714737, Train Acc: 0.9209285714285714\n",
            "Epoch: 30 - Val cost: 0.3116396963596344, Val Acc: 0.8881666666666667\n",
            "Epoch: 31 - Train cost: 0.21053507924079895, Train Acc: 0.9236666666666666\n",
            "Epoch: 31 - Val cost: 0.3080349564552307, Val Acc: 0.8881666666666667\n",
            "Epoch: 32 - Train cost: 0.2093917429447174, Train Acc: 0.9240952380952381\n",
            "Epoch: 32 - Val cost: 0.30955466628074646, Val Acc: 0.8896111111111111\n",
            "Epoch: 33 - Train cost: 0.21833805739879608, Train Acc: 0.9185952380952381\n",
            "Epoch: 33 - Val cost: 0.327699214220047, Val Acc: 0.8841666666666667\n",
            "Epoch: 34 - Train cost: 0.225618377327919, Train Acc: 0.9150952380952381\n",
            "Epoch: 34 - Val cost: 0.3345976173877716, Val Acc: 0.8793333333333333\n",
            "Epoch: 35 - Train cost: 0.18950647115707397, Train Acc: 0.931047619047619\n",
            "Epoch: 35 - Val cost: 0.3056313693523407, Val Acc: 0.8915555555555555\n",
            "Epoch: 36 - Train cost: 0.20247626304626465, Train Acc: 0.9259285714285714\n",
            "Epoch: 36 - Val cost: 0.3188706040382385, Val Acc: 0.8884444444444445\n",
            "Epoch: 37 - Train cost: 0.18961475789546967, Train Acc: 0.9322619047619047\n",
            "Epoch: 37 - Val cost: 0.3126014769077301, Val Acc: 0.8913888888888889\n",
            "Epoch: 38 - Train cost: 0.18415620923042297, Train Acc: 0.9337619047619048\n",
            "Epoch: 38 - Val cost: 0.30835747718811035, Val Acc: 0.8898333333333334\n",
            "Epoch: 39 - Train cost: 0.17414169013500214, Train Acc: 0.9374047619047619\n",
            "Epoch: 39 - Val cost: 0.3097795248031616, Val Acc: 0.8931111111111111\n",
            "Epoch: 40 - Train cost: 0.1741325408220291, Train Acc: 0.9371190476190476\n",
            "Epoch: 40 - Val cost: 0.3126004636287689, Val Acc: 0.8901111111111111\n",
            "Epoch: 41 - Train cost: 0.19868478178977966, Train Acc: 0.9253571428571429\n",
            "Epoch: 41 - Val cost: 0.34599244594573975, Val Acc: 0.8826666666666667\n",
            "Epoch: 42 - Train cost: 0.1706937849521637, Train Acc: 0.9379047619047619\n",
            "Epoch: 42 - Val cost: 0.3192383944988251, Val Acc: 0.8902777777777777\n",
            "Epoch: 43 - Train cost: 0.15838922560214996, Train Acc: 0.9436428571428571\n",
            "Epoch: 43 - Val cost: 0.3065158724784851, Val Acc: 0.894\n",
            "Epoch: 44 - Train cost: 0.16367681324481964, Train Acc: 0.9419761904761905\n",
            "Epoch: 44 - Val cost: 0.3076247274875641, Val Acc: 0.8924444444444445\n",
            "Epoch: 45 - Train cost: 0.16278427839279175, Train Acc: 0.940595238095238\n",
            "Epoch: 45 - Val cost: 0.31749337911605835, Val Acc: 0.8891111111111111\n",
            "Epoch: 46 - Train cost: 0.1614016741514206, Train Acc: 0.940952380952381\n",
            "Epoch: 46 - Val cost: 0.31859755516052246, Val Acc: 0.8887222222222222\n",
            "Epoch: 47 - Train cost: 0.1690109670162201, Train Acc: 0.9377142857142857\n",
            "Epoch: 47 - Val cost: 0.33098864555358887, Val Acc: 0.8891666666666667\n",
            "Epoch: 48 - Train cost: 0.19119808077812195, Train Acc: 0.9256190476190476\n",
            "Epoch: 48 - Val cost: 0.356315940618515, Val Acc: 0.8806666666666667\n",
            "Epoch: 49 - Train cost: 0.16478368639945984, Train Acc: 0.9389761904761905\n",
            "Epoch: 49 - Val cost: 0.33936208486557007, Val Acc: 0.8843333333333333\n"
          ]
        }
      ]
    },
    {
      "cell_type": "code",
      "metadata": {
        "colab": {
          "base_uri": "https://localhost:8080/"
        },
        "id": "0m6wNXzhu35Q",
        "outputId": "a923dd52-9213-4a85-b5f3-4bd6140859ac"
      },
      "source": [
        "print(cross_entropy_cost_train[-1])\n",
        "print(accuracy_train[-1])"
      ],
      "execution_count": null,
      "outputs": [
        {
          "output_type": "stream",
          "name": "stdout",
          "text": [
            "0.16478368639945984\n",
            "0.9389761904761905\n"
          ]
        }
      ]
    },
    {
      "cell_type": "code",
      "metadata": {
        "colab": {
          "base_uri": "https://localhost:8080/",
          "height": 350
        },
        "id": "Jyuo4-JOrRGY",
        "outputId": "dfd1b93b-6f81-489f-b608-c471b5cbc1cf"
      },
      "source": [
        "import matplotlib.pyplot as plt\n",
        "\n",
        "plt.figure(figsize = [10, 5])\n",
        "plt.plot(cross_entropy_cost_train, label = 'Train set')\n",
        "plt.plot(cross_entropy_cost_val, label = 'Validation set')\n",
        "plt.xlabel('epochs')\n",
        "plt.ylabel('Cross-entropy cost')\n",
        "plt.title('Eval: Cross-entropy cost throughout training')\n",
        "plt.legend()\n",
        "plt.grid()"
      ],
      "execution_count": null,
      "outputs": [
        {
          "output_type": "display_data",
          "data": {
            "image/png": "[encoded data removed]",
            "text/plain": [
              "<Figure size 720x360 with 1 Axes>"
            ]
          },
          "metadata": {
            "needs_background": "light"
          }
        }
      ]
    },
    {
      "cell_type": "code",
      "metadata": {
        "colab": {
          "base_uri": "https://localhost:8080/",
          "height": 350
        },
        "id": "ZO8PuXdCrSgt",
        "outputId": "e44ac08d-e2fa-4275-bc0b-88263bc03f5c"
      },
      "source": [
        "plt.figure(figsize = [10, 5])\n",
        "plt.plot(accuracy_train, label = 'Train set')\n",
        "plt.plot(accuracy_val, label = 'Validation set')\n",
        "plt.xlabel('epochs')\n",
        "plt.ylabel('Accuracy')\n",
        "plt.title('Accuracy performance throughout training')\n",
        "plt.legend()\n",
        "plt.grid()"
      ],
      "execution_count": null,
      "outputs": [
        {
          "output_type": "display_data",
          "data": {
            "image/png": "[encoded data removed]",
            "text/plain": [
              "<Figure size 720x360 with 1 Axes>"
            ]
          },
          "metadata": {
            "needs_background": "light"
          }
        }
      ]
    },
    {
      "cell_type": "code",
      "metadata": {
        "colab": {
          "base_uri": "https://localhost:8080/",
          "height": 350
        },
        "id": "cS-JKv6EqMfY",
        "outputId": "6b728f3c-9671-4e01-8b19-06569e09ec52"
      },
      "source": [
        "import matplotlib.pyplot as plt\n",
        "\n",
        "# Plot the cost\n",
        "plt.figure(figsize = [10, 5])\n",
        "plt.plot(training_minibatch_Js)\n",
        "plt.xlabel('minibatch updates i')\n",
        "plt.ylabel('Cost')\n",
        "plt.title('Cost throughout training (mini-batch)')\n",
        "plt.grid()"
      ],
      "execution_count": null,
      "outputs": [
        {
          "output_type": "display_data",
          "data": {
            "image/png": "[encoded data removed]",
            "text/plain": [
              "<Figure size 720x360 with 1 Axes>"
            ]
          },
          "metadata": {
            "needs_background": "light"
          }
        }
      ]
    },
    {
      "cell_type": "code",
      "metadata": {
        "id": "4Aztc6K4qovn"
      },
      "source": [
        "len(test_data)\n",
        "\n",
        "test_dataloader = DataLoader(dataset = test_data, batch_size = len(test_data))\n",
        "\n",
        "with torch.no_grad():\n",
        "    for X, y in test_dataloader:\n",
        "        raw_y_preds = model(X) # predict model output for X in test dataset\n",
        "\n",
        "    y_class_preds = raw_y_preds.argmax(dim = 1)\n",
        "    cost = cost_function(raw_y_preds, y).item()\n",
        "\n",
        "acc = accuracy_score(y_pred = y_class_preds, y_true = y)"
      ],
      "execution_count": null,
      "outputs": []
    },
    {
      "cell_type": "code",
      "metadata": {
        "colab": {
          "base_uri": "https://localhost:8080/"
        },
        "id": "01uWGranw_-g",
        "outputId": "c3bae7fd-6e72-4bab-de32-c5ecfb5cc4f1"
      },
      "source": [
        "print(\"The cost in the test dataset is {: .3}.\".format(cost))"
      ],
      "execution_count": null,
      "outputs": [
        {
          "output_type": "stream",
          "name": "stdout",
          "text": [
            "The cost in the test dataset is  0.338.\n"
          ]
        }
      ]
    },
    {
      "cell_type": "code",
      "metadata": {
        "colab": {
          "base_uri": "https://localhost:8080/"
        },
        "id": "Ouplt8uazJpZ",
        "outputId": "b4353bad-cbd2-4a24-af3b-ffac195237fb"
      },
      "source": [
        "print(\"The accuracy in the test dataset is {}.\".format(acc))"
      ],
      "execution_count": null,
      "outputs": [
        {
          "output_type": "stream",
          "name": "stdout",
          "text": [
            "The accuracy in the test dataset is 0.8885.\n"
          ]
        }
      ]
    }
  ]
}