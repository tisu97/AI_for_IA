{
  "nbformat": 4,
  "nbformat_minor": 0,
  "metadata": {
    "colab": {
      "name": "A5_Task _A.ipynb",
      "provenance": [],
      "collapsed_sections": []
    },
    "kernelspec": {
      "name": "python3",
      "display_name": "Python 3"
    },
    "language_info": {
      "name": "python"
    }
  },
  "cells": [
    {
      "cell_type": "markdown",
      "metadata": {
        "id": "8HRqkl3DADqE"
      },
      "source": [
        "# Task A - 1D Linear and non-linear regression - using simple FANNs"
      ]
    },
    {
      "cell_type": "markdown",
      "metadata": {
        "id": "Hv1X_EgIAGtD"
      },
      "source": [
        "## (a) Creating your own Synthetic data"
      ]
    },
    {
      "cell_type": "code",
      "metadata": {
        "id": "vM_xn8tJGJTc"
      },
      "source": [
        "import torch\n",
        "import numpy as np\n",
        "from torch import nn\n",
        "from torch.utils.data import DataLoader, TensorDataset\n",
        "from torchvision import datasets\n",
        "from torchvision.transforms import ToTensor\n",
        "\n",
        "a_true = 5.0 # choose your own value here\n",
        "b_true = 3.0 # choose your own value here\n",
        "sigma_epsilon = 5.0 #choose your own noise level here\n",
        "\n",
        "X = np.random.uniform(0, 10, 250) # sample a bunch of #x_n in [0,10]\n",
        "y_obs = a_true * X + b_true + sigma_epsilon * np.random.randn(len(X)) # linear relationship embedded in 7\n",
        "X = torch.tensor(X).reshape(len(X),1).float() # comment about each row being a data-pair\n",
        "y_obs = torch.tensor(y_obs).reshape(len(y_obs),1).float()"
      ],
      "execution_count": null,
      "outputs": []
    },
    {
      "cell_type": "markdown",
      "metadata": {
        "id": "eW71uL8rYddE"
      },
      "source": [
        "Plot the dataset"
      ]
    },
    {
      "cell_type": "code",
      "metadata": {
        "colab": {
          "base_uri": "https://localhost:8080/",
          "height": 296
        },
        "id": "iFrwDnwXYVk8",
        "outputId": "6c2b1861-8432-40ed-ade5-6c96307eaa52"
      },
      "source": [
        "import matplotlib.pyplot as plt\n",
        "\n",
        "plt.scatter(X, y_obs, label = \"Y true\")\n",
        "plt.xlabel('x')\n",
        "plt.ylabel('y')"
      ],
      "execution_count": null,
      "outputs": [
        {
          "output_type": "execute_result",
          "data": {
            "text/plain": [
              "Text(0, 0.5, 'y')"
            ]
          },
          "metadata": {},
          "execution_count": 2
        },
        {
          "output_type": "display_data",
          "data": {
            "image/png": "[encoded data removed]",
            "text/plain": [
              "<Figure size 432x288 with 1 Axes>"
            ]
          },
          "metadata": {
            "needs_background": "light"
          }
        }
      ]
    },
    {
      "cell_type": "markdown",
      "metadata": {
        "id": "kH8k2OeJAL2b"
      },
      "source": [
        "##(b) Make a PyTorch dataset object"
      ]
    },
    {
      "cell_type": "code",
      "metadata": {
        "id": "gaxNsBeaAMWE"
      },
      "source": [
        "my_dataset = TensorDataset(X, y_obs)\n",
        "my_dataloader = DataLoader(my_dataset, batch_size = 50, shuffle = True)"
      ],
      "execution_count": null,
      "outputs": []
    },
    {
      "cell_type": "markdown",
      "metadata": {
        "id": "gK31P2apBdFs"
      },
      "source": [
        "## (c) Create the following network in PyTorch"
      ]
    },
    {
      "cell_type": "code",
      "metadata": {
        "id": "zFMPN-wzBeM0"
      },
      "source": [
        "# Defining the single neuron having 1 input\n",
        "model = nn.Sequential(\n",
        "    nn.Linear(in_features = 1, out_features = 1)\n",
        ")"
      ],
      "execution_count": null,
      "outputs": []
    },
    {
      "cell_type": "markdown",
      "metadata": {
        "id": "ohdfaxARB7XD"
      },
      "source": [
        "## (d) Is this a regression problem or a classification problem?"
      ]
    },
    {
      "cell_type": "code",
      "metadata": {
        "id": "lHBFoBi1B8J7"
      },
      "source": [
        "cost_function = nn.MSELoss() # Cost function for regression problem"
      ],
      "execution_count": null,
      "outputs": []
    },
    {
      "cell_type": "markdown",
      "metadata": {
        "id": "j1IdLZ1oDE5T"
      },
      "source": [
        "## (e) Choose you optimizer"
      ]
    },
    {
      "cell_type": "code",
      "metadata": {
        "id": "-BXrcZT0DF2c"
      },
      "source": [
        "optim = torch.optim.SGD(model.parameters(), lr = 0.01)"
      ],
      "execution_count": null,
      "outputs": []
    },
    {
      "cell_type": "markdown",
      "metadata": {
        "id": "GtJlfsZHD0vN"
      },
      "source": [
        "## (f) Train the model"
      ]
    },
    {
      "cell_type": "code",
      "metadata": {
        "id": "TXtYEO_YD1Z8"
      },
      "source": [
        "training_minibatch_Js =[]\n",
        "nr_epochs = 10\n",
        "for epoch_i in range(nr_epochs):\n",
        "    for X_batch, y_batch in my_dataloader:\n",
        "        y_preds = model(X_batch) # Make predection on batch\n",
        "        cost = cost_function(y_preds, y_batch) # Compute cost\n",
        "        training_minibatch_Js.append(cost)\n",
        "        optim.zero_grad() # zero the grads of all model params\n",
        "        cost.backward() # compute J gradient of all model params\n",
        "        optim.step() # take one update step for all model params"
      ],
      "execution_count": null,
      "outputs": []
    },
    {
      "cell_type": "markdown",
      "metadata": {
        "id": "Bx1OyuIPYvY1"
      },
      "source": [
        "Plot the cost"
      ]
    },
    {
      "cell_type": "code",
      "metadata": {
        "colab": {
          "base_uri": "https://localhost:8080/",
          "height": 350
        },
        "id": "HhDvfkQCHIrt",
        "outputId": "02ae6837-06f7-489e-dada-200f042b0a5f"
      },
      "source": [
        "import matplotlib.pyplot as plt\n",
        "\n",
        "# total number of steps = minibatch * epoch = (250 / 50) * 10\n",
        "\n",
        "# Plot the cost\n",
        "plt.figure(figsize=[10,5])\n",
        "plt.plot(training_minibatch_Js)\n",
        "plt.xlabel('update step i on mini-batch')\n",
        "plt.ylabel('Cost')\n",
        "plt.title('Cost during training on train-set (per mini-batch)')\n",
        "plt.grid()"
      ],
      "execution_count": null,
      "outputs": [
        {
          "output_type": "display_data",
          "data": {
            "image/png": "[encoded data removed]",
            "text/plain": [
              "<Figure size 720x360 with 1 Axes>"
            ]
          },
          "metadata": {
            "needs_background": "light"
          }
        }
      ]
    },
    {
      "cell_type": "code",
      "metadata": {
        "colab": {
          "base_uri": "https://localhost:8080/"
        },
        "id": "1KsHV1Stu1fF",
        "outputId": "2fd37eab-cc3d-488f-a890-a323a7b4c8b5"
      },
      "source": [
        "print(\"Final cost: {}.\".format(training_minibatch_Js[-1]))"
      ],
      "execution_count": null,
      "outputs": [
        {
          "output_type": "stream",
          "name": "stdout",
          "text": [
            "Final cost: 21.001977920532227.\n"
          ]
        }
      ]
    },
    {
      "cell_type": "markdown",
      "metadata": {
        "id": "1SkCGhx4XCmE"
      },
      "source": [
        "## (g) Use your fitted model to make predictions"
      ]
    },
    {
      "cell_type": "code",
      "metadata": {
        "id": "we8x9TiFXB_E"
      },
      "source": [
        "with torch.no_grad():\n",
        "    y_preds = model(X)"
      ],
      "execution_count": null,
      "outputs": []
    },
    {
      "cell_type": "markdown",
      "metadata": {
        "id": "CxsOZbcUY0As"
      },
      "source": [
        "Plot the fitted model and the dataset together"
      ]
    },
    {
      "cell_type": "code",
      "metadata": {
        "colab": {
          "base_uri": "https://localhost:8080/",
          "height": 279
        },
        "id": "19iLtSjGY7AU",
        "outputId": "99917263-bf0b-4702-eda9-033a26f514d4"
      },
      "source": [
        "import matplotlib.pyplot as plt\n",
        "\n",
        "plt.scatter(X, y_obs, label = \"Y true\")\n",
        "plt.xlabel('x')\n",
        "plt.ylabel('y')\n",
        "\n",
        "plt.scatter(X, y_preds, color = \"red\", label = \"Y prediction\")\n",
        "plt.legend()\n",
        "plt.show()"
      ],
      "execution_count": null,
      "outputs": [
        {
          "output_type": "display_data",
          "data": {
            "image/png": "[encoded data removed]",
            "text/plain": [
              "<Figure size 432x288 with 1 Axes>"
            ]
          },
          "metadata": {
            "needs_background": "light"
          }
        }
      ]
    },
    {
      "cell_type": "markdown",
      "metadata": {
        "id": "rQpSmr0ybPTF"
      },
      "source": [
        "## (h) Determine and look at the final model parameters."
      ]
    },
    {
      "cell_type": "code",
      "metadata": {
        "colab": {
          "base_uri": "https://localhost:8080/"
        },
        "id": "V45wa7GsYJUt",
        "outputId": "17ac40d8-3364-4a16-d0ad-611e4f8a3e14"
      },
      "source": [
        "# Print all parameters in the neural network model\n",
        "for p in model.named_parameters():\n",
        "    print(p)"
      ],
      "execution_count": null,
      "outputs": [
        {
          "output_type": "stream",
          "name": "stdout",
          "text": [
            "('0.weight', Parameter containing:\n",
            "tensor([[5.2843]], requires_grad=True))\n",
            "('0.bias', Parameter containing:\n",
            "tensor([0.6303], requires_grad=True))\n"
          ]
        }
      ]
    },
    {
      "cell_type": "markdown",
      "metadata": {
        "id": "F57nhEt7bYX8"
      },
      "source": [
        "## (i) Repeat the above steps (b)-(h) for the MarvinMinsky.csv dataset"
      ]
    },
    {
      "cell_type": "code",
      "metadata": {
        "id": "g4eXYvAIbZiE"
      },
      "source": [
        "from numpy import genfromtxt # we use this to load data from a csv into a numpy array\n",
        "my_data = genfromtxt(\n",
        "    'dataset_Marvin_Minsky.csv', \n",
        "    delimiter = ',', \n",
        "    skip_header = 1) \n",
        "X = my_data[:,0] #Extract the x_n\n",
        "y_obs = my_data[:,1] #Extract the y_n\n",
        "\n",
        "# comment about each row being a data-pair # reshape to make each row in X a data-pint x_n\n",
        "X = torch.tensor(X).reshape(len(X),1).float()\n",
        "# turn to column vector, each row corresponds to each y_n\n",
        "y_obs = torch.tensor(y_obs).reshape(len(y_obs),1).float()\n",
        "\n",
        "my_dataset = TensorDataset(X, y_obs) # create your dataset by turning tensors into datasets objects\n",
        "my_dataloader = DataLoader(my_dataset, batch_size = 50, shuffle = True) # create your dataloader"
      ],
      "execution_count": null,
      "outputs": []
    },
    {
      "cell_type": "markdown",
      "metadata": {
        "id": "B2mcIDCsc3BW"
      },
      "source": [
        "Plot the dataset"
      ]
    },
    {
      "cell_type": "code",
      "metadata": {
        "colab": {
          "base_uri": "https://localhost:8080/",
          "height": 296
        },
        "id": "-VDSD0dIc491",
        "outputId": "ecae615f-ece9-4840-a9ff-61346895fa66"
      },
      "source": [
        "import matplotlib.pyplot as plt\n",
        "\n",
        "plt.scatter(X, y_obs, label = \"Y true\")\n",
        "plt.xlabel('x')\n",
        "plt.ylabel('y')"
      ],
      "execution_count": null,
      "outputs": [
        {
          "output_type": "execute_result",
          "data": {
            "text/plain": [
              "Text(0, 0.5, 'y')"
            ]
          },
          "metadata": {},
          "execution_count": 14
        },
        {
          "output_type": "display_data",
          "data": {
            "image/png": "[encoded data removed]",
            "text/plain": [
              "<Figure size 432x288 with 1 Axes>"
            ]
          },
          "metadata": {
            "needs_background": "light"
          }
        }
      ]
    },
    {
      "cell_type": "code",
      "metadata": {
        "id": "Yn4I769kfEh1"
      },
      "source": [
        "# Defining the single neuron having 1 input\n",
        "model = nn.Sequential(\n",
        "    nn.Linear(in_features = 1, out_features = 5),\n",
        "    nn.ReLU(),\n",
        "    nn.Linear(in_features = 5, out_features = 5),\n",
        "    nn.ReLU(),\n",
        "    nn.Linear(in_features = 5, out_features = 5),\n",
        "    nn.Tanh(),\n",
        "    nn.Linear(in_features = 5, out_features = 1)\n",
        ")\n",
        "\n",
        "# Cost function for regression problem\n",
        "cost_function = nn.MSELoss() \n",
        "\n",
        "optim = torch.optim.SGD(model.parameters(), lr = 0.01)\n",
        "\n",
        "training_minibatch_Js = []\n",
        "nr_epochs = 100\n",
        "for epoch_i in range(nr_epochs):\n",
        "    for X_batch, y_batch in my_dataloader:\n",
        "        y_preds = model(X_batch) # Make predection on batch\n",
        "        cost = cost_function(y_preds, y_batch) # Compute cost\n",
        "        training_minibatch_Js.append(cost)\n",
        "        optim.zero_grad() # zero the grads of all model params\n",
        "        cost.backward() # compute J gradient of all model params\n",
        "        optim.step() # take one update step for all model params"
      ],
      "execution_count": null,
      "outputs": []
    },
    {
      "cell_type": "markdown",
      "metadata": {
        "id": "Nwe5xaE3oAut"
      },
      "source": [
        "Plot the cost"
      ]
    },
    {
      "cell_type": "code",
      "metadata": {
        "colab": {
          "base_uri": "https://localhost:8080/",
          "height": 350
        },
        "id": "16FAR3OdnZUW",
        "outputId": "c0d732d0-8d1f-4e04-f667-bc5ff27851f4"
      },
      "source": [
        "import matplotlib.pyplot as plt\n",
        "\n",
        "# total number of steps = minibatch * epoch = (250 / 50) * 100\n",
        "\n",
        "# Plot the cost\n",
        "plt.figure(figsize=[10,5])\n",
        "plt.plot(training_minibatch_Js)\n",
        "plt.xlabel('update step i on mini-batch')\n",
        "plt.ylabel('Cost')\n",
        "plt.title('Cost during training on train-set (per mini-batch)')\n",
        "plt.grid()"
      ],
      "execution_count": null,
      "outputs": [
        {
          "output_type": "display_data",
          "data": {
            "image/png": "[encoded data removed]",
            "text/plain": [
              "<Figure size 720x360 with 1 Axes>"
            ]
          },
          "metadata": {
            "needs_background": "light"
          }
        }
      ]
    },
    {
      "cell_type": "code",
      "metadata": {
        "colab": {
          "base_uri": "https://localhost:8080/"
        },
        "id": "23NwrbcVus8W",
        "outputId": "b5111d64-b952-4138-b34a-8b47ffa4d8c4"
      },
      "source": [
        "print(\"Final cost: {}.\".format(training_minibatch_Js[-1]))"
      ],
      "execution_count": null,
      "outputs": [
        {
          "output_type": "stream",
          "name": "stdout",
          "text": [
            "Final cost: 0.04257679358124733.\n"
          ]
        }
      ]
    },
    {
      "cell_type": "markdown",
      "metadata": {
        "id": "b5qdKvDTwEvt"
      },
      "source": [
        "Print all parameters in the neural network model"
      ]
    },
    {
      "cell_type": "code",
      "metadata": {
        "colab": {
          "base_uri": "https://localhost:8080/"
        },
        "id": "wBoTS5HNnbEt",
        "outputId": "f2437a2f-accd-402b-9908-6397d2660366"
      },
      "source": [
        "# Print all parameters in the neural network model\n",
        "for p in model.named_parameters():\n",
        "    print(p)"
      ],
      "execution_count": null,
      "outputs": [
        {
          "output_type": "stream",
          "name": "stdout",
          "text": [
            "('0.weight', Parameter containing:\n",
            "tensor([[ 0.0564],\n",
            "        [-0.1318],\n",
            "        [-0.4120],\n",
            "        [ 0.3429],\n",
            "        [ 0.5965]], requires_grad=True))\n",
            "('0.bias', Parameter containing:\n",
            "tensor([ 0.3258,  0.5534, -0.9102,  0.6144,  0.9723], requires_grad=True))\n",
            "('2.weight', Parameter containing:\n",
            "tensor([[-2.2701e-01, -1.5702e-02,  5.9379e-02, -9.1126e-03, -9.6754e-02],\n",
            "        [ 2.7422e-02,  3.1524e-01,  1.3659e-04, -8.5985e-02,  3.3316e-01],\n",
            "        [-3.7085e-01, -1.9215e-01, -1.8920e-01, -2.6416e-01,  3.1361e-01],\n",
            "        [ 5.1275e-02,  3.3455e-02,  1.7410e-01,  4.5127e-01,  2.3877e-01],\n",
            "        [-9.7355e-03,  2.9969e-01, -2.9446e-01, -2.4526e-01, -3.6484e-01]],\n",
            "       requires_grad=True))\n",
            "('2.bias', Parameter containing:\n",
            "tensor([-0.1716,  0.4419, -0.3987,  0.3738, -0.3798], requires_grad=True))\n",
            "('4.weight', Parameter containing:\n",
            "tensor([[-0.3321, -0.3758,  0.2856,  0.3037, -0.0091],\n",
            "        [ 0.0458, -0.3585,  0.3995, -0.1585, -0.0223],\n",
            "        [-0.1964,  0.0084,  0.2850, -0.3062,  0.1985],\n",
            "        [ 0.0663,  0.1065,  0.2264, -0.1885,  0.0428],\n",
            "        [-0.1836, -0.2296,  0.0917, -0.0658, -0.0432]], requires_grad=True))\n",
            "('4.bias', Parameter containing:\n",
            "tensor([-0.1828, -0.2149, -0.2207,  0.4356,  0.3114], requires_grad=True))\n",
            "('6.weight', Parameter containing:\n",
            "tensor([[ 0.4942, -0.2783, -0.2900, -0.2883, -0.8154]], requires_grad=True))\n",
            "('6.bias', Parameter containing:\n",
            "tensor([0.2680], requires_grad=True))\n"
          ]
        }
      ]
    },
    {
      "cell_type": "code",
      "metadata": {
        "id": "veEuLQnFnhjN"
      },
      "source": [
        "# Use the fitted model to make predictions\n",
        "with torch.no_grad():\n",
        "    y_preds = model(X)"
      ],
      "execution_count": null,
      "outputs": []
    },
    {
      "cell_type": "markdown",
      "metadata": {
        "id": "MKQNy3oEoH4V"
      },
      "source": [
        "Plot the fitting model and the dataset together"
      ]
    },
    {
      "cell_type": "code",
      "metadata": {
        "colab": {
          "base_uri": "https://localhost:8080/",
          "height": 279
        },
        "id": "tNFvpADYnnul",
        "outputId": "be85d717-e034-4dbc-aadd-5de0a6644056"
      },
      "source": [
        "import matplotlib.pyplot as plt\n",
        "\n",
        "plt.scatter(X, y_obs, label = \"Y true\")\n",
        "plt.xlabel('x')\n",
        "plt.ylabel('y')\n",
        "\n",
        "plt.scatter(X, y_preds, color = \"red\", label = \"Y prediction\")\n",
        "plt.legend()\n",
        "plt.show()"
      ],
      "execution_count": null,
      "outputs": [
        {
          "output_type": "display_data",
          "data": {
            "image/png": "[encoded data removed]",
            "text/plain": [
              "<Figure size 432x288 with 1 Axes>"
            ]
          },
          "metadata": {
            "needs_background": "light"
          }
        }
      ]
    }
  ]
}